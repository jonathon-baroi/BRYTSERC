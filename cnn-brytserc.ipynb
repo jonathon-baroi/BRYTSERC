{
 "cells": [
  {
   "cell_type": "code",
   "execution_count": 1,
   "metadata": {
    "execution": {
     "iopub.execute_input": "2025-10-11T05:36:41.075141Z",
     "iopub.status.busy": "2025-10-11T05:36:41.074929Z",
     "iopub.status.idle": "2025-10-11T05:36:46.347008Z",
     "shell.execute_reply": "2025-10-11T05:36:46.346400Z",
     "shell.execute_reply.started": "2025-10-11T05:36:41.075124Z"
    },
    "trusted": true
   },
   "outputs": [
    {
     "name": "stdout",
     "output_type": "stream",
     "text": [
      "Using device: cuda\n"
     ]
    }
   ],
   "source": [
    "import torch\n",
    "import torch.nn as nn\n",
    "import torch.optim as optim\n",
    "from torch.utils.data import Dataset, DataLoader\n",
    "import numpy as np\n",
    "import pandas as pd\n",
    "import librosa\n",
    "from sklearn.model_selection import train_test_split\n",
    "from sklearn.metrics import accuracy_score, classification_report, confusion_matrix\n",
    "import os\n",
    "from tqdm import tqdm\n",
    "import pickle\n",
    "import warnings\n",
    "warnings.filterwarnings('ignore')\n",
    "\n",
    "\n",
    "DATA_PATH = \"/kaggle/input/brytserc/\"\n",
    "EMOTIONS = ['angry', 'disgust', 'fear', 'happy', 'neutral', 'sad', 'surprise']\n",
    "device = torch.device(\"cuda\" if torch.cuda.is_available() else \"cpu\")\n",
    "print(\"Using device:\", device)\n",
    "\n",
    "\n",
    "BATCH_SIZE = 32\n",
    "LEARNING_RATE = 0.001\n",
    "NUM_EPOCHS = 50\n",
    "PATIENCE = 7 \n",
    "SAMPLE_RATE = 16000\n",
    "DURATION = 3  \n",
    "N_MELS = 128 \n",
    "N_FFT = 2048\n",
    "HOP_LENGTH = 512"
   ]
  },
  {
   "cell_type": "code",
   "execution_count": null,
   "metadata": {
    "execution": {
     "iopub.execute_input": "2025-10-11T05:36:51.968118Z",
     "iopub.status.busy": "2025-10-11T05:36:51.967830Z",
     "iopub.status.idle": "2025-10-11T05:36:51.976387Z",
     "shell.execute_reply": "2025-10-11T05:36:51.975779Z",
     "shell.execute_reply.started": "2025-10-11T05:36:51.968097Z"
    },
    "trusted": true
   },
   "outputs": [],
   "source": [
    "def extract_mel_spectrogram(audio, sr=SAMPLE_RATE, n_mels=N_MELS, n_fft=N_FFT, hop_length=HOP_LENGTH):\n",
    "    mel_spec = librosa.feature.melspectrogram(\n",
    "        y=audio,\n",
    "        sr=sr,\n",
    "        n_mels=n_mels,\n",
    "        n_fft=n_fft,\n",
    "        hop_length=hop_length\n",
    "    )\n",
    "    \n",
    "\n",
    "    mel_spec_db = librosa.power_to_db(mel_spec, ref=np.max)\n",
    "    \n",
    "    return mel_spec_db\n",
    "\n",
    "class CNNEmotionDataset(Dataset):\n",
    "   \n",
    "    def __init__(self, audio_files, labels, sample_rate=SAMPLE_RATE, duration=DURATION):\n",
    "        self.audio_files = audio_files\n",
    "        self.labels = labels\n",
    "        self.sample_rate = sample_rate\n",
    "        self.duration = duration\n",
    "        self.max_length = sample_rate * duration\n",
    "        \n",
    "    def __len__(self):\n",
    "        return len(self.labels)\n",
    "    \n",
    "    def __getitem__(self, idx):\n",
    "\n",
    "        audio = self.audio_files[idx]\n",
    "        label = self.labels[idx]\n",
    "        \n",
    "        \n",
    "        if len(audio) > self.max_length:\n",
    "            audio = audio[:self.max_length]\n",
    "        else:\n",
    "            audio = np.pad(audio, (0, self.max_length - len(audio)), mode='constant')\n",
    "        \n",
    " \n",
    "        mel_spec = extract_mel_spectrogram(audio)\n",
    "        \n",
    "   \n",
    "        mel_spec = (mel_spec - mel_spec.mean()) / (mel_spec.std() + 1e-8)\n",
    "        \n",
    "   \n",
    "        mel_spec = np.expand_dims(mel_spec, axis=0)\n",
    "        \n",
    "        return {\n",
    "            'spectrogram': torch.FloatTensor(mel_spec),\n",
    "            'label': torch.LongTensor([label])[0]\n",
    "        }\n",
    "\n",
    "def cnn_collate_fn(batch):    \n",
    "    spectrograms = torch.stack([item['spectrogram'] for item in batch])\n",
    "    labels = torch.stack([item['label'] for item in batch])\n",
    "    \n",
    "    return {\n",
    "        'spectrogram': spectrograms,\n",
    "        'labels': labels\n",
    "    }"
   ]
  },
  {
   "cell_type": "code",
   "execution_count": null,
   "metadata": {
    "execution": {
     "iopub.execute_input": "2025-10-11T05:36:51.977767Z",
     "iopub.status.busy": "2025-10-11T05:36:51.977531Z",
     "iopub.status.idle": "2025-10-11T05:37:57.498374Z",
     "shell.execute_reply": "2025-10-11T05:37:57.497730Z",
     "shell.execute_reply.started": "2025-10-11T05:36:51.977745Z"
    },
    "trusted": true
   },
   "outputs": [
    {
     "name": "stdout",
     "output_type": "stream",
     "text": [
      "Loading data for CNN...\n",
      "Found 5215 audio files\n"
     ]
    },
    {
     "name": "stderr",
     "output_type": "stream",
     "text": [
      "Loading audio files: 100%|██████████| 5215/5215 [01:04<00:00, 81.37it/s] \n"
     ]
    },
    {
     "name": "stdout",
     "output_type": "stream",
     "text": [
      "\n",
      "Emotion distribution:\n",
      "  angry: 745\n",
      "  disgust: 745\n",
      "  fear: 745\n",
      "  happy: 745\n",
      "  neutral: 745\n",
      "  sad: 745\n",
      "  surprise: 745\n",
      "\n",
      "Total samples: 5215\n",
      "Label distribution: [745 745 745 745 745 745 745]\n",
      "\n",
      "Train samples: 3129 (60.0%)\n",
      "Validation samples: 1043 (20.0%)\n",
      "Test samples: 1043 (20.0%)\n",
      "\n",
      "Data loading complete!\n",
      "Spectrogram shape: torch.Size([1, 128, 94])\n"
     ]
    }
   ],
   "source": [
    "def load_emotion_data_cnn(data_path):\n",
    "    all_features = []\n",
    "    all_labels = []\n",
    "    \n",
    "    print(\"Loading data for CNN...\")\n",
    "    \n",
    " \n",
    "    all_files = [f for f in os.listdir(data_path) if f.endswith('.wav')]\n",
    "    print(f\"Found {len(all_files)} audio files\")\n",
    "    \n",
    "    if len(all_files) == 0:\n",
    "        raise ValueError(f\"No .wav files found in {data_path}\")\n",
    "    \n",
    "\n",
    "    emotion_counts = {emotion: 0 for emotion in EMOTIONS}\n",
    "    \n",
    "    for file in tqdm(all_files, desc=\"Loading audio files\"):\n",
    "        try:            \n",
    "            emotion_name = file.split('_')[0].lower()                        \n",
    "            if emotion_name not in [e.lower() for e in EMOTIONS]:\n",
    "                print(f\"Warning: Unknown emotion '{emotion_name}' in file {file}\")\n",
    "                continue\n",
    "            \n",
    "        \n",
    "            emotion_idx = [e.lower() for e in EMOTIONS].index(emotion_name)\n",
    "            \n",
    " \n",
    "            file_path = os.path.join(data_path, file)\n",
    "            audio, sr = librosa.load(file_path, sr=SAMPLE_RATE)\n",
    "            \n",
    "            all_features.append(audio)\n",
    "            all_labels.append(emotion_idx)\n",
    "            emotion_counts[EMOTIONS[emotion_idx]] += 1\n",
    "            \n",
    "        except Exception as e:\n",
    "            print(f\"Error loading {file}: {e}\")\n",
    "            continue\n",
    "    \n",
    "    print(\"\\nEmotion distribution:\")\n",
    "    for emotion, count in emotion_counts.items():\n",
    "        print(f\"  {emotion}: {count}\")\n",
    "    \n",
    "    return all_features, np.array(all_labels)\n",
    "\n",
    "\n",
    "features, labels = load_emotion_data_cnn(DATA_PATH)\n",
    "print(f\"\\nTotal samples: {len(labels)}\")\n",
    "\n",
    "if len(labels) == 0:\n",
    "    raise ValueError(\"No data loaded! Please check your data path and file format.\")\n",
    "\n",
    "print(f\"Label distribution: {np.bincount(labels)}\")\n",
    "\n",
    "\n",
    "X_train, X_temp, y_train, y_temp = train_test_split(\n",
    "    features, labels, test_size=0.4, random_state=42, stratify=labels\n",
    ")\n",
    "\n",
    "X_val, X_test, y_val, y_test = train_test_split(\n",
    "    X_temp, y_temp, test_size=0.5, random_state=42, stratify=y_temp\n",
    ")\n",
    "\n",
    "print(f\"\\nTrain samples: {len(y_train)} ({len(y_train)/len(labels)*100:.1f}%)\")\n",
    "print(f\"Validation samples: {len(y_val)} ({len(y_val)/len(labels)*100:.1f}%)\")\n",
    "print(f\"Test samples: {len(y_test)} ({len(y_test)/len(labels)*100:.1f}%)\")\n",
    "\n",
    "train_dataset = CNNEmotionDataset(X_train, y_train)\n",
    "val_dataset = CNNEmotionDataset(X_val, y_val)\n",
    "test_dataset = CNNEmotionDataset(X_test, y_test)\n",
    "\n",
    "\n",
    "train_loader = DataLoader(\n",
    "    train_dataset, batch_size=BATCH_SIZE, shuffle=True, collate_fn=cnn_collate_fn\n",
    ")\n",
    "val_loader = DataLoader(\n",
    "    val_dataset, batch_size=BATCH_SIZE, shuffle=False, collate_fn=cnn_collate_fn\n",
    ")\n",
    "test_loader = DataLoader(\n",
    "    test_dataset, batch_size=BATCH_SIZE, shuffle=False, collate_fn=cnn_collate_fn\n",
    ")\n",
    "\n",
    "print(\"\\nData loading complete!\")\n",
    "print(f\"Spectrogram shape: {train_dataset[0]['spectrogram'].shape}\")"
   ]
  },
  {
   "cell_type": "code",
   "execution_count": 4,
   "metadata": {
    "execution": {
     "iopub.execute_input": "2025-10-11T05:37:57.499773Z",
     "iopub.status.busy": "2025-10-11T05:37:57.499354Z",
     "iopub.status.idle": "2025-10-11T05:37:57.747191Z",
     "shell.execute_reply": "2025-10-11T05:37:57.746343Z",
     "shell.execute_reply.started": "2025-10-11T05:37:57.499753Z"
    },
    "trusted": true
   },
   "outputs": [
    {
     "name": "stdout",
     "output_type": "stream",
     "text": [
      "CNN Model initialized\n",
      "Total parameters: 1,716,871\n",
      "Trainable parameters: 1,716,871\n",
      "\n",
      "Model Architecture:\n",
      "EmotionCNN(\n",
      "  (conv_block1): Sequential(\n",
      "    (0): Conv2d(1, 64, kernel_size=(3, 3), stride=(1, 1), padding=(1, 1))\n",
      "    (1): BatchNorm2d(64, eps=1e-05, momentum=0.1, affine=True, track_running_stats=True)\n",
      "    (2): ReLU()\n",
      "    (3): MaxPool2d(kernel_size=2, stride=2, padding=0, dilation=1, ceil_mode=False)\n",
      "    (4): Dropout(p=0.25, inplace=False)\n",
      "  )\n",
      "  (conv_block2): Sequential(\n",
      "    (0): Conv2d(64, 128, kernel_size=(3, 3), stride=(1, 1), padding=(1, 1))\n",
      "    (1): BatchNorm2d(128, eps=1e-05, momentum=0.1, affine=True, track_running_stats=True)\n",
      "    (2): ReLU()\n",
      "    (3): MaxPool2d(kernel_size=2, stride=2, padding=0, dilation=1, ceil_mode=False)\n",
      "    (4): Dropout(p=0.25, inplace=False)\n",
      "  )\n",
      "  (conv_block3): Sequential(\n",
      "    (0): Conv2d(128, 256, kernel_size=(3, 3), stride=(1, 1), padding=(1, 1))\n",
      "    (1): BatchNorm2d(256, eps=1e-05, momentum=0.1, affine=True, track_running_stats=True)\n",
      "    (2): ReLU()\n",
      "    (3): MaxPool2d(kernel_size=2, stride=2, padding=0, dilation=1, ceil_mode=False)\n",
      "    (4): Dropout(p=0.25, inplace=False)\n",
      "  )\n",
      "  (conv_block4): Sequential(\n",
      "    (0): Conv2d(256, 512, kernel_size=(3, 3), stride=(1, 1), padding=(1, 1))\n",
      "    (1): BatchNorm2d(512, eps=1e-05, momentum=0.1, affine=True, track_running_stats=True)\n",
      "    (2): ReLU()\n",
      "    (3): MaxPool2d(kernel_size=2, stride=2, padding=0, dilation=1, ceil_mode=False)\n",
      "    (4): Dropout(p=0.25, inplace=False)\n",
      "  )\n",
      "  (global_avg_pool): AdaptiveAvgPool2d(output_size=(1, 1))\n",
      "  (fc): Sequential(\n",
      "    (0): Linear(in_features=512, out_features=256, bias=True)\n",
      "    (1): ReLU()\n",
      "    (2): Dropout(p=0.5, inplace=False)\n",
      "    (3): Linear(in_features=256, out_features=128, bias=True)\n",
      "    (4): ReLU()\n",
      "    (5): Dropout(p=0.5, inplace=False)\n",
      "    (6): Linear(in_features=128, out_features=7, bias=True)\n",
      "  )\n",
      ")\n"
     ]
    }
   ],
   "source": [
    "class EmotionCNN(nn.Module):\n",
    "  \n",
    "    def __init__(self, num_classes=7, dropout=0.5):\n",
    "        super(EmotionCNN, self).__init__()\n",
    "        \n",
    "    \n",
    "        self.conv_block1 = nn.Sequential(\n",
    "            nn.Conv2d(1, 64, kernel_size=3, padding=1),\n",
    "            nn.BatchNorm2d(64),\n",
    "            nn.ReLU(),\n",
    "            nn.MaxPool2d(kernel_size=2, stride=2),\n",
    "            nn.Dropout(dropout * 0.5)\n",
    "        )\n",
    "        \n",
    "        self.conv_block2 = nn.Sequential(\n",
    "            nn.Conv2d(64, 128, kernel_size=3, padding=1),\n",
    "            nn.BatchNorm2d(128),\n",
    "            nn.ReLU(),\n",
    "            nn.MaxPool2d(kernel_size=2, stride=2),\n",
    "            nn.Dropout(dropout * 0.5)\n",
    "        )\n",
    "        \n",
    "        self.conv_block3 = nn.Sequential(\n",
    "            nn.Conv2d(128, 256, kernel_size=3, padding=1),\n",
    "            nn.BatchNorm2d(256),\n",
    "            nn.ReLU(),\n",
    "            nn.MaxPool2d(kernel_size=2, stride=2),\n",
    "            nn.Dropout(dropout * 0.5)\n",
    "        )\n",
    "        \n",
    "        self.conv_block4 = nn.Sequential(\n",
    "            nn.Conv2d(256, 512, kernel_size=3, padding=1),\n",
    "            nn.BatchNorm2d(512),\n",
    "            nn.ReLU(),\n",
    "            nn.MaxPool2d(kernel_size=2, stride=2),\n",
    "            nn.Dropout(dropout * 0.5)\n",
    "        )\n",
    "        \n",
    "  \n",
    "        self.global_avg_pool = nn.AdaptiveAvgPool2d((1, 1))\n",
    "        \n",
    "       \n",
    "        self.fc = nn.Sequential(\n",
    "            nn.Linear(512, 256),\n",
    "            nn.ReLU(),\n",
    "            nn.Dropout(dropout),\n",
    "            nn.Linear(256, 128),\n",
    "            nn.ReLU(),\n",
    "            nn.Dropout(dropout),\n",
    "            nn.Linear(128, num_classes)\n",
    "        )\n",
    "        \n",
    "    def forward(self, x):\n",
    "\n",
    "        x = self.conv_block1(x)\n",
    "        x = self.conv_block2(x)\n",
    "        x = self.conv_block3(x)\n",
    "        x = self.conv_block4(x)\n",
    "        \n",
    "\n",
    "        x = self.global_avg_pool(x)\n",
    "        x = x.view(x.size(0), -1)\n",
    "      \n",
    "        x = self.fc(x)\n",
    "        \n",
    "        return x\n",
    "\n",
    "\n",
    "cnn_model = EmotionCNN(num_classes=len(EMOTIONS), dropout=0.5)\n",
    "cnn_model = cnn_model.to(device)\n",
    "\n",
    "print(f\"CNN Model initialized\")\n",
    "print(f\"Total parameters: {sum(p.numel() for p in cnn_model.parameters()):,}\")\n",
    "print(f\"Trainable parameters: {sum(p.numel() for p in cnn_model.parameters() if p.requires_grad):,}\")\n",
    "\n",
    "\n",
    "print(\"\\nModel Architecture:\")\n",
    "print(cnn_model)"
   ]
  },
  {
   "cell_type": "code",
   "execution_count": 5,
   "metadata": {
    "execution": {
     "iopub.execute_input": "2025-10-11T05:37:57.748322Z",
     "iopub.status.busy": "2025-10-11T05:37:57.748066Z",
     "iopub.status.idle": "2025-10-11T05:37:57.757228Z",
     "shell.execute_reply": "2025-10-11T05:37:57.756542Z",
     "shell.execute_reply.started": "2025-10-11T05:37:57.748303Z"
    },
    "trusted": true
   },
   "outputs": [],
   "source": [
    "def train_epoch_cnn(model, dataloader, criterion, optimizer, device):\n",
    "\n",
    "    model.train()\n",
    "    total_loss = 0\n",
    "    predictions = []\n",
    "    true_labels = []\n",
    "    \n",
    "    progress_bar = tqdm(dataloader, desc=\"Training\")\n",
    "    \n",
    "    for batch in progress_bar:\n",
    "        spectrogram = batch['spectrogram'].to(device)\n",
    "        labels = batch['labels'].to(device)\n",
    "        \n",
    "    \n",
    "        optimizer.zero_grad()\n",
    "        \n",
    "\n",
    "        logits = model(spectrogram)\n",
    "        loss = criterion(logits, labels)\n",
    "        \n",
    "\n",
    "        loss.backward()\n",
    "        \n",
    "\n",
    "        torch.nn.utils.clip_grad_norm_(model.parameters(), max_norm=1.0)\n",
    "        \n",
    "        optimizer.step()\n",
    "        \n",
    "      \n",
    "        total_loss += loss.item()\n",
    "        preds = torch.argmax(logits, dim=1).cpu().numpy()\n",
    "        predictions.extend(preds)\n",
    "        true_labels.extend(labels.cpu().numpy())\n",
    "        \n",
    "    \n",
    "        progress_bar.set_postfix({'loss': loss.item()})\n",
    "    \n",
    "    avg_loss = total_loss / len(dataloader)\n",
    "    accuracy = accuracy_score(true_labels, predictions)\n",
    "    \n",
    "    return avg_loss, accuracy\n",
    "\n",
    "def validate_cnn(model, dataloader, criterion, device):\n",
    "    \n",
    "    model.eval()\n",
    "    total_loss = 0\n",
    "    predictions = []\n",
    "    true_labels = []\n",
    "    \n",
    "    with torch.no_grad():\n",
    "        for batch in tqdm(dataloader, desc=\"Validating\"):\n",
    "            spectrogram = batch['spectrogram'].to(device)\n",
    "            labels = batch['labels'].to(device)\n",
    "            \n",
    "    \n",
    "            logits = model(spectrogram)\n",
    "            loss = criterion(logits, labels)\n",
    "            \n",
    "\n",
    "            total_loss += loss.item()\n",
    "            preds = torch.argmax(logits, dim=1).cpu().numpy()\n",
    "            predictions.extend(preds)\n",
    "            true_labels.extend(labels.cpu().numpy())\n",
    "    \n",
    "    avg_loss = total_loss / len(dataloader)\n",
    "    accuracy = accuracy_score(true_labels, predictions)\n",
    "    \n",
    "    return avg_loss, accuracy, predictions, true_labels"
   ]
  },
  {
   "cell_type": "code",
   "execution_count": 6,
   "metadata": {
    "execution": {
     "iopub.execute_input": "2025-10-11T05:37:57.759107Z",
     "iopub.status.busy": "2025-10-11T05:37:57.758865Z",
     "iopub.status.idle": "2025-10-11T06:01:13.527086Z",
     "shell.execute_reply": "2025-10-11T06:01:13.526417Z",
     "shell.execute_reply.started": "2025-10-11T05:37:57.759089Z"
    },
    "trusted": true
   },
   "outputs": [
    {
     "name": "stdout",
     "output_type": "stream",
     "text": [
      "\n",
      "==================================================\n",
      "Starting CNN Training\n",
      "==================================================\n",
      "\n",
      "Epoch 1/50\n",
      "--------------------------------------------------\n"
     ]
    },
    {
     "name": "stderr",
     "output_type": "stream",
     "text": [
      "Training: 100%|██████████| 98/98 [00:25<00:00,  3.82it/s, loss=1.83]\n",
      "Validating: 100%|██████████| 33/33 [00:06<00:00,  4.73it/s]\n"
     ]
    },
    {
     "name": "stdout",
     "output_type": "stream",
     "text": [
      "\n",
      "Train Loss: 1.8918 | Train Acc: 0.2122\n",
      "Val Loss: 1.8155 | Val Acc: 0.2483\n",
      "Learning Rate: 0.001000\n",
      "✓ New best model! Validation accuracy: 0.2483\n",
      "\n",
      "Epoch 2/50\n",
      "--------------------------------------------------\n"
     ]
    },
    {
     "name": "stderr",
     "output_type": "stream",
     "text": [
      "Training: 100%|██████████| 98/98 [00:24<00:00,  4.01it/s, loss=1.62]\n",
      "Validating: 100%|██████████| 33/33 [00:07<00:00,  4.64it/s]\n"
     ]
    },
    {
     "name": "stdout",
     "output_type": "stream",
     "text": [
      "\n",
      "Train Loss: 1.7782 | Train Acc: 0.2790\n",
      "Val Loss: 1.7174 | Val Acc: 0.2848\n",
      "Learning Rate: 0.001000\n",
      "✓ New best model! Validation accuracy: 0.2848\n",
      "\n",
      "Epoch 3/50\n",
      "--------------------------------------------------\n"
     ]
    },
    {
     "name": "stderr",
     "output_type": "stream",
     "text": [
      "Training: 100%|██████████| 98/98 [00:24<00:00,  3.99it/s, loss=2.04]\n",
      "Validating: 100%|██████████| 33/33 [00:07<00:00,  4.67it/s]\n"
     ]
    },
    {
     "name": "stdout",
     "output_type": "stream",
     "text": [
      "\n",
      "Train Loss: 1.6763 | Train Acc: 0.3445\n",
      "Val Loss: 1.6594 | Val Acc: 0.3452\n",
      "Learning Rate: 0.001000\n",
      "✓ New best model! Validation accuracy: 0.3452\n",
      "\n",
      "Epoch 4/50\n",
      "--------------------------------------------------\n"
     ]
    },
    {
     "name": "stderr",
     "output_type": "stream",
     "text": [
      "Training: 100%|██████████| 98/98 [00:24<00:00,  3.98it/s, loss=1.47]\n",
      "Validating: 100%|██████████| 33/33 [00:07<00:00,  4.66it/s]\n"
     ]
    },
    {
     "name": "stdout",
     "output_type": "stream",
     "text": [
      "\n",
      "Train Loss: 1.5677 | Train Acc: 0.3985\n",
      "Val Loss: 1.8946 | Val Acc: 0.3001\n",
      "Learning Rate: 0.001000\n",
      "No improvement. Patience: 1/7\n",
      "\n",
      "Epoch 5/50\n",
      "--------------------------------------------------\n"
     ]
    },
    {
     "name": "stderr",
     "output_type": "stream",
     "text": [
      "Training: 100%|██████████| 98/98 [00:24<00:00,  4.00it/s, loss=1.53]\n",
      "Validating: 100%|██████████| 33/33 [00:07<00:00,  4.61it/s]\n"
     ]
    },
    {
     "name": "stdout",
     "output_type": "stream",
     "text": [
      "\n",
      "Train Loss: 1.4580 | Train Acc: 0.4471\n",
      "Val Loss: 1.4393 | Val Acc: 0.4583\n",
      "Learning Rate: 0.001000\n",
      "✓ New best model! Validation accuracy: 0.4583\n",
      "\n",
      "Epoch 6/50\n",
      "--------------------------------------------------\n"
     ]
    },
    {
     "name": "stderr",
     "output_type": "stream",
     "text": [
      "Training: 100%|██████████| 98/98 [00:24<00:00,  4.01it/s, loss=1.37] \n",
      "Validating: 100%|██████████| 33/33 [00:07<00:00,  4.68it/s]\n"
     ]
    },
    {
     "name": "stdout",
     "output_type": "stream",
     "text": [
      "\n",
      "Train Loss: 1.3876 | Train Acc: 0.4797\n",
      "Val Loss: 1.4241 | Val Acc: 0.4698\n",
      "Learning Rate: 0.001000\n",
      "✓ New best model! Validation accuracy: 0.4698\n",
      "\n",
      "Epoch 7/50\n",
      "--------------------------------------------------\n"
     ]
    },
    {
     "name": "stderr",
     "output_type": "stream",
     "text": [
      "Training: 100%|██████████| 98/98 [00:24<00:00,  4.01it/s, loss=1.18] \n",
      "Validating: 100%|██████████| 33/33 [00:07<00:00,  4.66it/s]\n"
     ]
    },
    {
     "name": "stdout",
     "output_type": "stream",
     "text": [
      "\n",
      "Train Loss: 1.3042 | Train Acc: 0.5241\n",
      "Val Loss: 1.2896 | Val Acc: 0.5264\n",
      "Learning Rate: 0.001000\n",
      "✓ New best model! Validation accuracy: 0.5264\n",
      "\n",
      "Epoch 8/50\n",
      "--------------------------------------------------\n"
     ]
    },
    {
     "name": "stderr",
     "output_type": "stream",
     "text": [
      "Training: 100%|██████████| 98/98 [00:24<00:00,  3.98it/s, loss=1.21] \n",
      "Validating: 100%|██████████| 33/33 [00:07<00:00,  4.71it/s]\n"
     ]
    },
    {
     "name": "stdout",
     "output_type": "stream",
     "text": [
      "\n",
      "Train Loss: 1.2680 | Train Acc: 0.5382\n",
      "Val Loss: 1.4379 | Val Acc: 0.4717\n",
      "Learning Rate: 0.001000\n",
      "No improvement. Patience: 1/7\n",
      "\n",
      "Epoch 9/50\n",
      "--------------------------------------------------\n"
     ]
    },
    {
     "name": "stderr",
     "output_type": "stream",
     "text": [
      "Training: 100%|██████████| 98/98 [00:25<00:00,  3.78it/s, loss=1.62] \n",
      "Validating: 100%|██████████| 33/33 [00:07<00:00,  4.63it/s]\n"
     ]
    },
    {
     "name": "stdout",
     "output_type": "stream",
     "text": [
      "\n",
      "Train Loss: 1.2189 | Train Acc: 0.5631\n",
      "Val Loss: 1.2602 | Val Acc: 0.5570\n",
      "Learning Rate: 0.001000\n",
      "✓ New best model! Validation accuracy: 0.5570\n",
      "\n",
      "Epoch 10/50\n",
      "--------------------------------------------------\n"
     ]
    },
    {
     "name": "stderr",
     "output_type": "stream",
     "text": [
      "Training: 100%|██████████| 98/98 [00:24<00:00,  3.95it/s, loss=1.24] \n",
      "Validating: 100%|██████████| 33/33 [00:07<00:00,  4.65it/s]\n"
     ]
    },
    {
     "name": "stdout",
     "output_type": "stream",
     "text": [
      "\n",
      "Train Loss: 1.1822 | Train Acc: 0.5836\n",
      "Val Loss: 1.3497 | Val Acc: 0.5350\n",
      "Learning Rate: 0.001000\n",
      "No improvement. Patience: 1/7\n",
      "\n",
      "Epoch 11/50\n",
      "--------------------------------------------------\n"
     ]
    },
    {
     "name": "stderr",
     "output_type": "stream",
     "text": [
      "Training: 100%|██████████| 98/98 [00:24<00:00,  4.02it/s, loss=1.35] \n",
      "Validating: 100%|██████████| 33/33 [00:07<00:00,  4.64it/s]\n"
     ]
    },
    {
     "name": "stdout",
     "output_type": "stream",
     "text": [
      "\n",
      "Train Loss: 1.1634 | Train Acc: 0.5986\n",
      "Val Loss: 1.1829 | Val Acc: 0.5820\n",
      "Learning Rate: 0.001000\n",
      "✓ New best model! Validation accuracy: 0.5820\n",
      "\n",
      "Epoch 12/50\n",
      "--------------------------------------------------\n"
     ]
    },
    {
     "name": "stderr",
     "output_type": "stream",
     "text": [
      "Training: 100%|██████████| 98/98 [00:24<00:00,  3.98it/s, loss=1.17] \n",
      "Validating: 100%|██████████| 33/33 [00:06<00:00,  4.72it/s]\n"
     ]
    },
    {
     "name": "stdout",
     "output_type": "stream",
     "text": [
      "\n",
      "Train Loss: 1.1249 | Train Acc: 0.5996\n",
      "Val Loss: 3.0105 | Val Acc: 0.3250\n",
      "Learning Rate: 0.001000\n",
      "No improvement. Patience: 1/7\n",
      "\n",
      "Epoch 13/50\n",
      "--------------------------------------------------\n"
     ]
    },
    {
     "name": "stderr",
     "output_type": "stream",
     "text": [
      "Training: 100%|██████████| 98/98 [00:24<00:00,  3.98it/s, loss=1.06] \n",
      "Validating: 100%|██████████| 33/33 [00:06<00:00,  4.73it/s]\n"
     ]
    },
    {
     "name": "stdout",
     "output_type": "stream",
     "text": [
      "\n",
      "Train Loss: 1.0983 | Train Acc: 0.6063\n",
      "Val Loss: 1.1885 | Val Acc: 0.5829\n",
      "Learning Rate: 0.001000\n",
      "✓ New best model! Validation accuracy: 0.5829\n",
      "\n",
      "Epoch 14/50\n",
      "--------------------------------------------------\n"
     ]
    },
    {
     "name": "stderr",
     "output_type": "stream",
     "text": [
      "Training: 100%|██████████| 98/98 [00:24<00:00,  3.98it/s, loss=1.26] \n",
      "Validating: 100%|██████████| 33/33 [00:07<00:00,  4.63it/s]\n"
     ]
    },
    {
     "name": "stdout",
     "output_type": "stream",
     "text": [
      "\n",
      "Train Loss: 1.0511 | Train Acc: 0.6242\n",
      "Val Loss: 1.3190 | Val Acc: 0.5753\n",
      "Learning Rate: 0.001000\n",
      "No improvement. Patience: 1/7\n",
      "\n",
      "Epoch 15/50\n",
      "--------------------------------------------------\n"
     ]
    },
    {
     "name": "stderr",
     "output_type": "stream",
     "text": [
      "Training: 100%|██████████| 98/98 [00:24<00:00,  3.97it/s, loss=0.644]\n",
      "Validating: 100%|██████████| 33/33 [00:07<00:00,  4.67it/s]\n"
     ]
    },
    {
     "name": "stdout",
     "output_type": "stream",
     "text": [
      "\n",
      "Train Loss: 1.0288 | Train Acc: 0.6353\n",
      "Val Loss: 1.1884 | Val Acc: 0.5992\n",
      "Learning Rate: 0.001000\n",
      "✓ New best model! Validation accuracy: 0.5992\n",
      "\n",
      "Epoch 16/50\n",
      "--------------------------------------------------\n"
     ]
    },
    {
     "name": "stderr",
     "output_type": "stream",
     "text": [
      "Training: 100%|██████████| 98/98 [00:24<00:00,  4.00it/s, loss=1.05] \n",
      "Validating: 100%|██████████| 33/33 [00:07<00:00,  4.71it/s]\n"
     ]
    },
    {
     "name": "stdout",
     "output_type": "stream",
     "text": [
      "\n",
      "Train Loss: 1.0236 | Train Acc: 0.6411\n",
      "Val Loss: 1.2323 | Val Acc: 0.5618\n",
      "Learning Rate: 0.001000\n",
      "No improvement. Patience: 1/7\n",
      "\n",
      "Epoch 17/50\n",
      "--------------------------------------------------\n"
     ]
    },
    {
     "name": "stderr",
     "output_type": "stream",
     "text": [
      "Training: 100%|██████████| 98/98 [00:24<00:00,  3.99it/s, loss=1.06] \n",
      "Validating: 100%|██████████| 33/33 [00:07<00:00,  4.60it/s]\n"
     ]
    },
    {
     "name": "stdout",
     "output_type": "stream",
     "text": [
      "\n",
      "Train Loss: 0.9684 | Train Acc: 0.6609\n",
      "Val Loss: 1.1140 | Val Acc: 0.6098\n",
      "Learning Rate: 0.001000\n",
      "✓ New best model! Validation accuracy: 0.6098\n",
      "\n",
      "Epoch 18/50\n",
      "--------------------------------------------------\n"
     ]
    },
    {
     "name": "stderr",
     "output_type": "stream",
     "text": [
      "Training: 100%|██████████| 98/98 [00:24<00:00,  3.98it/s, loss=1.63] \n",
      "Validating: 100%|██████████| 33/33 [00:07<00:00,  4.68it/s]\n"
     ]
    },
    {
     "name": "stdout",
     "output_type": "stream",
     "text": [
      "\n",
      "Train Loss: 0.9703 | Train Acc: 0.6651\n",
      "Val Loss: 1.2778 | Val Acc: 0.5944\n",
      "Learning Rate: 0.001000\n",
      "No improvement. Patience: 1/7\n",
      "\n",
      "Epoch 19/50\n",
      "--------------------------------------------------\n"
     ]
    },
    {
     "name": "stderr",
     "output_type": "stream",
     "text": [
      "Training: 100%|██████████| 98/98 [00:24<00:00,  3.98it/s, loss=1.21] \n",
      "Validating: 100%|██████████| 33/33 [00:07<00:00,  4.68it/s]\n"
     ]
    },
    {
     "name": "stdout",
     "output_type": "stream",
     "text": [
      "\n",
      "Train Loss: 0.9656 | Train Acc: 0.6670\n",
      "Val Loss: 1.2599 | Val Acc: 0.6059\n",
      "Learning Rate: 0.001000\n",
      "No improvement. Patience: 2/7\n",
      "\n",
      "Epoch 20/50\n",
      "--------------------------------------------------\n"
     ]
    },
    {
     "name": "stderr",
     "output_type": "stream",
     "text": [
      "Training: 100%|██████████| 98/98 [00:24<00:00,  3.99it/s, loss=1.07] \n",
      "Validating: 100%|██████████| 33/33 [00:07<00:00,  4.67it/s]\n"
     ]
    },
    {
     "name": "stdout",
     "output_type": "stream",
     "text": [
      "\n",
      "Train Loss: 0.9311 | Train Acc: 0.6820\n",
      "Val Loss: 1.1694 | Val Acc: 0.6050\n",
      "Learning Rate: 0.001000\n",
      "No improvement. Patience: 3/7\n",
      "\n",
      "Epoch 21/50\n",
      "--------------------------------------------------\n"
     ]
    },
    {
     "name": "stderr",
     "output_type": "stream",
     "text": [
      "Training: 100%|██████████| 98/98 [00:24<00:00,  3.98it/s, loss=0.739]\n",
      "Validating: 100%|██████████| 33/33 [00:07<00:00,  4.66it/s]\n"
     ]
    },
    {
     "name": "stdout",
     "output_type": "stream",
     "text": [
      "\n",
      "Train Loss: 0.8982 | Train Acc: 0.6929\n",
      "Val Loss: 1.3823 | Val Acc: 0.5820\n",
      "Learning Rate: 0.001000\n",
      "No improvement. Patience: 4/7\n",
      "\n",
      "Epoch 22/50\n",
      "--------------------------------------------------\n"
     ]
    },
    {
     "name": "stderr",
     "output_type": "stream",
     "text": [
      "Training: 100%|██████████| 98/98 [00:24<00:00,  3.98it/s, loss=1.07] \n",
      "Validating: 100%|██████████| 33/33 [00:07<00:00,  4.61it/s]\n"
     ]
    },
    {
     "name": "stdout",
     "output_type": "stream",
     "text": [
      "\n",
      "Train Loss: 0.8864 | Train Acc: 0.6980\n",
      "Val Loss: 1.1055 | Val Acc: 0.6385\n",
      "Learning Rate: 0.001000\n",
      "✓ New best model! Validation accuracy: 0.6385\n",
      "\n",
      "Epoch 23/50\n",
      "--------------------------------------------------\n"
     ]
    },
    {
     "name": "stderr",
     "output_type": "stream",
     "text": [
      "Training: 100%|██████████| 98/98 [00:24<00:00,  3.98it/s, loss=0.987]\n",
      "Validating: 100%|██████████| 33/33 [00:07<00:00,  4.64it/s]\n"
     ]
    },
    {
     "name": "stdout",
     "output_type": "stream",
     "text": [
      "\n",
      "Train Loss: 0.8313 | Train Acc: 0.7050\n",
      "Val Loss: 1.2477 | Val Acc: 0.6213\n",
      "Learning Rate: 0.001000\n",
      "No improvement. Patience: 1/7\n",
      "\n",
      "Epoch 24/50\n",
      "--------------------------------------------------\n"
     ]
    },
    {
     "name": "stderr",
     "output_type": "stream",
     "text": [
      "Training: 100%|██████████| 98/98 [00:24<00:00,  3.98it/s, loss=0.941]\n",
      "Validating: 100%|██████████| 33/33 [00:07<00:00,  4.67it/s]\n"
     ]
    },
    {
     "name": "stdout",
     "output_type": "stream",
     "text": [
      "\n",
      "Train Loss: 0.8226 | Train Acc: 0.7168\n",
      "Val Loss: 1.6334 | Val Acc: 0.5618\n",
      "Learning Rate: 0.001000\n",
      "No improvement. Patience: 2/7\n",
      "\n",
      "Epoch 25/50\n",
      "--------------------------------------------------\n"
     ]
    },
    {
     "name": "stderr",
     "output_type": "stream",
     "text": [
      "Training: 100%|██████████| 98/98 [00:24<00:00,  3.99it/s, loss=0.761]\n",
      "Validating: 100%|██████████| 33/33 [00:07<00:00,  4.69it/s]\n"
     ]
    },
    {
     "name": "stdout",
     "output_type": "stream",
     "text": [
      "\n",
      "Train Loss: 0.8305 | Train Acc: 0.7130\n",
      "Val Loss: 0.9914 | Val Acc: 0.6740\n",
      "Learning Rate: 0.001000\n",
      "✓ New best model! Validation accuracy: 0.6740\n",
      "\n",
      "Epoch 26/50\n",
      "--------------------------------------------------\n"
     ]
    },
    {
     "name": "stderr",
     "output_type": "stream",
     "text": [
      "Training: 100%|██████████| 98/98 [00:24<00:00,  3.99it/s, loss=0.717]\n",
      "Validating: 100%|██████████| 33/33 [00:07<00:00,  4.66it/s]\n"
     ]
    },
    {
     "name": "stdout",
     "output_type": "stream",
     "text": [
      "\n",
      "Train Loss: 0.7903 | Train Acc: 0.7315\n",
      "Val Loss: 1.3519 | Val Acc: 0.5849\n",
      "Learning Rate: 0.001000\n",
      "No improvement. Patience: 1/7\n",
      "\n",
      "Epoch 27/50\n",
      "--------------------------------------------------\n"
     ]
    },
    {
     "name": "stderr",
     "output_type": "stream",
     "text": [
      "Training: 100%|██████████| 98/98 [00:24<00:00,  4.01it/s, loss=1.31] \n",
      "Validating: 100%|██████████| 33/33 [00:07<00:00,  4.71it/s]\n"
     ]
    },
    {
     "name": "stdout",
     "output_type": "stream",
     "text": [
      "\n",
      "Train Loss: 0.7833 | Train Acc: 0.7325\n",
      "Val Loss: 1.4366 | Val Acc: 0.5609\n",
      "Learning Rate: 0.001000\n",
      "No improvement. Patience: 2/7\n",
      "\n",
      "Epoch 28/50\n",
      "--------------------------------------------------\n"
     ]
    },
    {
     "name": "stderr",
     "output_type": "stream",
     "text": [
      "Training: 100%|██████████| 98/98 [00:24<00:00,  4.01it/s, loss=0.468]\n",
      "Validating: 100%|██████████| 33/33 [00:06<00:00,  4.74it/s]\n"
     ]
    },
    {
     "name": "stdout",
     "output_type": "stream",
     "text": [
      "\n",
      "Train Loss: 0.7764 | Train Acc: 0.7341\n",
      "Val Loss: 1.7866 | Val Acc: 0.5455\n",
      "Learning Rate: 0.001000\n",
      "No improvement. Patience: 3/7\n",
      "\n",
      "Epoch 29/50\n",
      "--------------------------------------------------\n"
     ]
    },
    {
     "name": "stderr",
     "output_type": "stream",
     "text": [
      "Training: 100%|██████████| 98/98 [00:24<00:00,  4.01it/s, loss=0.876]\n",
      "Validating: 100%|██████████| 33/33 [00:07<00:00,  4.67it/s]\n"
     ]
    },
    {
     "name": "stdout",
     "output_type": "stream",
     "text": [
      "\n",
      "Train Loss: 0.7207 | Train Acc: 0.7536\n",
      "Val Loss: 1.1409 | Val Acc: 0.6510\n",
      "Learning Rate: 0.001000\n",
      "No improvement. Patience: 4/7\n",
      "\n",
      "Epoch 30/50\n",
      "--------------------------------------------------\n"
     ]
    },
    {
     "name": "stderr",
     "output_type": "stream",
     "text": [
      "Training: 100%|██████████| 98/98 [00:24<00:00,  3.97it/s, loss=1.08] \n",
      "Validating: 100%|██████████| 33/33 [00:07<00:00,  4.66it/s]\n"
     ]
    },
    {
     "name": "stdout",
     "output_type": "stream",
     "text": [
      "\n",
      "Train Loss: 0.7372 | Train Acc: 0.7443\n",
      "Val Loss: 1.0993 | Val Acc: 0.6376\n",
      "Learning Rate: 0.001000\n",
      "No improvement. Patience: 5/7\n",
      "\n",
      "Epoch 31/50\n",
      "--------------------------------------------------\n"
     ]
    },
    {
     "name": "stderr",
     "output_type": "stream",
     "text": [
      "Training: 100%|██████████| 98/98 [00:24<00:00,  3.99it/s, loss=0.64] \n",
      "Validating: 100%|██████████| 33/33 [00:06<00:00,  4.74it/s]\n"
     ]
    },
    {
     "name": "stdout",
     "output_type": "stream",
     "text": [
      "\n",
      "Train Loss: 0.7140 | Train Acc: 0.7565\n",
      "Val Loss: 1.0243 | Val Acc: 0.6826\n",
      "Learning Rate: 0.001000\n",
      "✓ New best model! Validation accuracy: 0.6826\n",
      "\n",
      "Epoch 32/50\n",
      "--------------------------------------------------\n"
     ]
    },
    {
     "name": "stderr",
     "output_type": "stream",
     "text": [
      "Training: 100%|██████████| 98/98 [00:24<00:00,  4.01it/s, loss=0.76] \n",
      "Validating: 100%|██████████| 33/33 [00:07<00:00,  4.71it/s]\n"
     ]
    },
    {
     "name": "stdout",
     "output_type": "stream",
     "text": [
      "\n",
      "Train Loss: 0.6948 | Train Acc: 0.7670\n",
      "Val Loss: 1.4877 | Val Acc: 0.6318\n",
      "Learning Rate: 0.001000\n",
      "No improvement. Patience: 1/7\n",
      "\n",
      "Epoch 33/50\n",
      "--------------------------------------------------\n"
     ]
    },
    {
     "name": "stderr",
     "output_type": "stream",
     "text": [
      "Training: 100%|██████████| 98/98 [00:24<00:00,  4.02it/s, loss=0.797]\n",
      "Validating: 100%|██████████| 33/33 [00:06<00:00,  4.73it/s]\n"
     ]
    },
    {
     "name": "stdout",
     "output_type": "stream",
     "text": [
      "\n",
      "Train Loss: 0.6518 | Train Acc: 0.7782\n",
      "Val Loss: 1.5502 | Val Acc: 0.5906\n",
      "Learning Rate: 0.001000\n",
      "No improvement. Patience: 2/7\n",
      "\n",
      "Epoch 34/50\n",
      "--------------------------------------------------\n"
     ]
    },
    {
     "name": "stderr",
     "output_type": "stream",
     "text": [
      "Training: 100%|██████████| 98/98 [00:24<00:00,  4.00it/s, loss=0.939]\n",
      "Validating: 100%|██████████| 33/33 [00:06<00:00,  4.74it/s]\n"
     ]
    },
    {
     "name": "stdout",
     "output_type": "stream",
     "text": [
      "\n",
      "Train Loss: 0.6649 | Train Acc: 0.7856\n",
      "Val Loss: 1.1037 | Val Acc: 0.6750\n",
      "Learning Rate: 0.001000\n",
      "No improvement. Patience: 3/7\n",
      "\n",
      "Epoch 35/50\n",
      "--------------------------------------------------\n"
     ]
    },
    {
     "name": "stderr",
     "output_type": "stream",
     "text": [
      "Training: 100%|██████████| 98/98 [00:24<00:00,  4.03it/s, loss=0.869]\n",
      "Validating: 100%|██████████| 33/33 [00:06<00:00,  4.72it/s]\n"
     ]
    },
    {
     "name": "stdout",
     "output_type": "stream",
     "text": [
      "\n",
      "Train Loss: 0.6452 | Train Acc: 0.7820\n",
      "Val Loss: 1.1629 | Val Acc: 0.6654\n",
      "Learning Rate: 0.001000\n",
      "No improvement. Patience: 4/7\n",
      "\n",
      "Epoch 36/50\n",
      "--------------------------------------------------\n"
     ]
    },
    {
     "name": "stderr",
     "output_type": "stream",
     "text": [
      "Training: 100%|██████████| 98/98 [00:24<00:00,  4.02it/s, loss=0.477]\n",
      "Validating: 100%|██████████| 33/33 [00:07<00:00,  4.70it/s]\n"
     ]
    },
    {
     "name": "stdout",
     "output_type": "stream",
     "text": [
      "\n",
      "Train Loss: 0.6552 | Train Acc: 0.7792\n",
      "Val Loss: 1.2937 | Val Acc: 0.6251\n",
      "Learning Rate: 0.001000\n",
      "No improvement. Patience: 5/7\n",
      "\n",
      "Epoch 37/50\n",
      "--------------------------------------------------\n"
     ]
    },
    {
     "name": "stderr",
     "output_type": "stream",
     "text": [
      "Training: 100%|██████████| 98/98 [00:24<00:00,  4.01it/s, loss=0.536]\n",
      "Validating: 100%|██████████| 33/33 [00:07<00:00,  4.67it/s]\n"
     ]
    },
    {
     "name": "stdout",
     "output_type": "stream",
     "text": [
      "\n",
      "Train Loss: 0.6384 | Train Acc: 0.7881\n",
      "Val Loss: 1.0519 | Val Acc: 0.6913\n",
      "Learning Rate: 0.001000\n",
      "✓ New best model! Validation accuracy: 0.6913\n",
      "\n",
      "Epoch 38/50\n",
      "--------------------------------------------------\n"
     ]
    },
    {
     "name": "stderr",
     "output_type": "stream",
     "text": [
      "Training: 100%|██████████| 98/98 [00:24<00:00,  3.97it/s, loss=0.921]\n",
      "Validating: 100%|██████████| 33/33 [00:07<00:00,  4.65it/s]\n"
     ]
    },
    {
     "name": "stdout",
     "output_type": "stream",
     "text": [
      "\n",
      "Train Loss: 0.6206 | Train Acc: 0.7935\n",
      "Val Loss: 1.3841 | Val Acc: 0.6414\n",
      "Learning Rate: 0.001000\n",
      "No improvement. Patience: 1/7\n",
      "\n",
      "Epoch 39/50\n",
      "--------------------------------------------------\n"
     ]
    },
    {
     "name": "stderr",
     "output_type": "stream",
     "text": [
      "Training: 100%|██████████| 98/98 [00:24<00:00,  3.96it/s, loss=0.75] \n",
      "Validating: 100%|██████████| 33/33 [00:07<00:00,  4.63it/s]\n"
     ]
    },
    {
     "name": "stdout",
     "output_type": "stream",
     "text": [
      "\n",
      "Train Loss: 0.5906 | Train Acc: 0.8012\n",
      "Val Loss: 1.6033 | Val Acc: 0.6012\n",
      "Learning Rate: 0.001000\n",
      "No improvement. Patience: 2/7\n",
      "\n",
      "Epoch 40/50\n",
      "--------------------------------------------------\n"
     ]
    },
    {
     "name": "stderr",
     "output_type": "stream",
     "text": [
      "Training: 100%|██████████| 98/98 [00:24<00:00,  3.98it/s, loss=0.449]\n",
      "Validating: 100%|██████████| 33/33 [00:07<00:00,  4.70it/s]\n"
     ]
    },
    {
     "name": "stdout",
     "output_type": "stream",
     "text": [
      "\n",
      "Train Loss: 0.6020 | Train Acc: 0.8006\n",
      "Val Loss: 1.2198 | Val Acc: 0.6884\n",
      "Learning Rate: 0.001000\n",
      "No improvement. Patience: 3/7\n",
      "\n",
      "Epoch 41/50\n",
      "--------------------------------------------------\n"
     ]
    },
    {
     "name": "stderr",
     "output_type": "stream",
     "text": [
      "Training: 100%|██████████| 98/98 [00:24<00:00,  4.02it/s, loss=0.287]\n",
      "Validating: 100%|██████████| 33/33 [00:07<00:00,  4.71it/s]\n"
     ]
    },
    {
     "name": "stdout",
     "output_type": "stream",
     "text": [
      "\n",
      "Train Loss: 0.5480 | Train Acc: 0.8121\n",
      "Val Loss: 1.7687 | Val Acc: 0.5973\n",
      "Learning Rate: 0.001000\n",
      "No improvement. Patience: 4/7\n",
      "\n",
      "Epoch 42/50\n",
      "--------------------------------------------------\n"
     ]
    },
    {
     "name": "stderr",
     "output_type": "stream",
     "text": [
      "Training: 100%|██████████| 98/98 [00:24<00:00,  4.00it/s, loss=0.569]\n",
      "Validating: 100%|██████████| 33/33 [00:06<00:00,  4.71it/s]\n"
     ]
    },
    {
     "name": "stdout",
     "output_type": "stream",
     "text": [
      "\n",
      "Train Loss: 0.5350 | Train Acc: 0.8274\n",
      "Val Loss: 1.5015 | Val Acc: 0.6184\n",
      "Learning Rate: 0.001000\n",
      "No improvement. Patience: 5/7\n",
      "\n",
      "Epoch 43/50\n",
      "--------------------------------------------------\n"
     ]
    },
    {
     "name": "stderr",
     "output_type": "stream",
     "text": [
      "Training: 100%|██████████| 98/98 [00:24<00:00,  4.04it/s, loss=0.551]\n",
      "Validating: 100%|██████████| 33/33 [00:06<00:00,  4.73it/s]\n"
     ]
    },
    {
     "name": "stdout",
     "output_type": "stream",
     "text": [
      "\n",
      "Train Loss: 0.5455 | Train Acc: 0.8143\n",
      "Val Loss: 1.2169 | Val Acc: 0.6625\n",
      "Learning Rate: 0.000500\n",
      "No improvement. Patience: 6/7\n",
      "\n",
      "Epoch 44/50\n",
      "--------------------------------------------------\n"
     ]
    },
    {
     "name": "stderr",
     "output_type": "stream",
     "text": [
      "Training: 100%|██████████| 98/98 [00:24<00:00,  4.01it/s, loss=0.445]\n",
      "Validating: 100%|██████████| 33/33 [00:06<00:00,  4.80it/s]"
     ]
    },
    {
     "name": "stdout",
     "output_type": "stream",
     "text": [
      "\n",
      "Train Loss: 0.4434 | Train Acc: 0.8488\n",
      "Val Loss: 1.4018 | Val Acc: 0.6874\n",
      "Learning Rate: 0.000500\n",
      "No improvement. Patience: 7/7\n",
      "\n",
      "Early stopping triggered after 44 epochs\n",
      "\n",
      "==================================================\n",
      "CNN Training Complete!\n",
      "Best validation accuracy: 0.6913 at epoch 37\n",
      "==================================================\n",
      "\n",
      "Best CNN model loaded for evaluation\n"
     ]
    },
    {
     "name": "stderr",
     "output_type": "stream",
     "text": [
      "\n"
     ]
    }
   ],
   "source": [
    "\n",
    "criterion = nn.CrossEntropyLoss()\n",
    "optimizer = optim.AdamW(cnn_model.parameters(), lr=LEARNING_RATE, weight_decay=1e-4)\n",
    "\n",
    "\n",
    "scheduler = optim.lr_scheduler.ReduceLROnPlateau(\n",
    "    optimizer, mode='max', factor=0.5, patience=5, verbose=True, min_lr=1e-6\n",
    ")\n",
    "\n",
    "\n",
    "history = {\n",
    "    'train_loss': [],\n",
    "    'train_acc': [],\n",
    "    'val_loss': [],\n",
    "    'val_acc': []\n",
    "}\n",
    "\n",
    "\n",
    "best_val_accuracy = 0.0\n",
    "best_model_state = None\n",
    "best_epoch = 0\n",
    "patience_counter = 0\n",
    "\n",
    "print(\"\\n\" + \"=\"*50)\n",
    "print(\"Starting CNN Training\")\n",
    "print(\"=\"*50)\n",
    "\n",
    "for epoch in range(NUM_EPOCHS):\n",
    "    print(f\"\\nEpoch {epoch+1}/{NUM_EPOCHS}\")\n",
    "    print(\"-\" * 50)\n",
    "    \n",
    "   \n",
    "    train_loss, train_acc = train_epoch_cnn(cnn_model, train_loader, criterion, optimizer, device)\n",
    "    \n",
    "    \n",
    "    val_loss, val_acc, _, _ = validate_cnn(cnn_model, val_loader, criterion, device)\n",
    "    \n",
    " \n",
    "    scheduler.step(val_acc)\n",
    "    \n",
    "\n",
    "    history['train_loss'].append(train_loss)\n",
    "    history['train_acc'].append(train_acc)\n",
    "    history['val_loss'].append(val_loss)\n",
    "    history['val_acc'].append(val_acc)\n",
    "    \n",
    "\n",
    "    current_lr = optimizer.param_groups[0]['lr']\n",
    "    print(f\"\\nTrain Loss: {train_loss:.4f} | Train Acc: {train_acc:.4f}\")\n",
    "    print(f\"Val Loss: {val_loss:.4f} | Val Acc: {val_acc:.4f}\")\n",
    "    print(f\"Learning Rate: {current_lr:.6f}\")\n",
    "    \n",
    "   \n",
    "    if val_acc > best_val_accuracy:\n",
    "        best_val_accuracy = val_acc\n",
    "        best_epoch = epoch + 1\n",
    "        best_model_state = cnn_model.state_dict().copy()\n",
    "        patience_counter = 0\n",
    "        print(f\"✓ New best model! Validation accuracy: {val_acc:.4f}\")\n",
    "        \n",
    "    \n",
    "        torch.save({\n",
    "            'epoch': epoch,\n",
    "            'model_state_dict': best_model_state,\n",
    "            'optimizer_state_dict': optimizer.state_dict(),\n",
    "            'val_accuracy': best_val_accuracy,\n",
    "            'history': history\n",
    "        }, 'best_cnn_emotion_model.pth')\n",
    "    else:\n",
    "        patience_counter += 1\n",
    "        print(f\"No improvement. Patience: {patience_counter}/{PATIENCE}\")\n",
    "    \n",
    "\n",
    "    if patience_counter >= PATIENCE:\n",
    "        print(f\"\\nEarly stopping triggered after {epoch+1} epochs\")\n",
    "        break\n",
    "\n",
    "print(\"\\n\" + \"=\"*50)\n",
    "print(\"CNN Training Complete!\")\n",
    "print(f\"Best validation accuracy: {best_val_accuracy:.4f} at epoch {best_epoch}\")\n",
    "print(\"=\"*50)\n",
    "\n",
    "\n",
    "cnn_model.load_state_dict(best_model_state)\n",
    "print(\"\\nBest CNN model loaded for evaluation\")"
   ]
  },
  {
   "cell_type": "code",
   "execution_count": 7,
   "metadata": {
    "execution": {
     "iopub.execute_input": "2025-10-11T06:01:13.528214Z",
     "iopub.status.busy": "2025-10-11T06:01:13.527768Z",
     "iopub.status.idle": "2025-10-11T06:01:23.206614Z",
     "shell.execute_reply": "2025-10-11T06:01:23.205924Z",
     "shell.execute_reply.started": "2025-10-11T06:01:13.528190Z"
    },
    "trusted": true
   },
   "outputs": [
    {
     "name": "stdout",
     "output_type": "stream",
     "text": [
      "\n",
      "==================================================\n",
      "Evaluating CNN on Test Set\n",
      "==================================================\n"
     ]
    },
    {
     "name": "stderr",
     "output_type": "stream",
     "text": [
      "Validating: 100%|██████████| 33/33 [00:06<00:00,  4.73it/s]\n"
     ]
    },
    {
     "name": "stdout",
     "output_type": "stream",
     "text": [
      "\n",
      "Test Loss: 1.3564\n",
      "Test Accuracy: 0.6587\n",
      "\n",
      "==================================================\n",
      "CNN Classification Report\n",
      "==================================================\n",
      "              precision    recall  f1-score   support\n",
      "\n",
      "       angry     0.9279    0.6913    0.7923       149\n",
      "     disgust     0.5517    0.7517    0.6364       149\n",
      "        fear     0.8000    0.3221    0.4593       149\n",
      "       happy     0.5747    0.8523    0.6865       149\n",
      "     neutral     0.7290    0.7584    0.7434       149\n",
      "         sad     0.8235    0.6577    0.7313       149\n",
      "    surprise     0.4943    0.5772    0.5325       149\n",
      "\n",
      "    accuracy                         0.6587      1043\n",
      "   macro avg     0.7002    0.6587    0.6545      1043\n",
      "weighted avg     0.7002    0.6587    0.6545      1043\n",
      "\n"
     ]
    },
    {
     "data": {
      "image/png": "[encoded data removed]",
      "text/plain": [
       "<Figure size 1000x800 with 2 Axes>"
      ]
     },
     "metadata": {},
     "output_type": "display_data"
    },
    {
     "name": "stdout",
     "output_type": "stream",
     "text": [
      "\n",
      "Confusion matrix saved as 'cnn_confusion_matrix.png'\n"
     ]
    },
    {
     "data": {
      "image/png": "[encoded data removed]",
      "text/plain": [
       "<Figure size 1500x500 with 2 Axes>"
      ]
     },
     "metadata": {},
     "output_type": "display_data"
    },
    {
     "name": "stdout",
     "output_type": "stream",
     "text": [
      "Training history saved as 'cnn_training_history.png'\n"
     ]
    }
   ],
   "source": [
    "import matplotlib.pyplot as plt\n",
    "import seaborn as sns\n",
    "\n",
    "\n",
    "print(\"\\n\" + \"=\"*50)\n",
    "print(\"Evaluating CNN on Test Set\")\n",
    "print(\"=\"*50)\n",
    "\n",
    "test_loss, test_acc, test_predictions, test_true_labels = validate_cnn(\n",
    "    cnn_model, test_loader, criterion, device\n",
    ")\n",
    "\n",
    "print(f\"\\nTest Loss: {test_loss:.4f}\")\n",
    "print(f\"Test Accuracy: {test_acc:.4f}\")\n",
    "\n",
    "\n",
    "print(\"\\n\" + \"=\"*50)\n",
    "print(\"CNN Classification Report\")\n",
    "print(\"=\"*50)\n",
    "print(classification_report(\n",
    "    test_true_labels, \n",
    "    test_predictions, \n",
    "    target_names=EMOTIONS,\n",
    "    digits=4\n",
    "))\n",
    "\n",
    "\n",
    "cm = confusion_matrix(test_true_labels, test_predictions)\n",
    "\n",
    "\n",
    "plt.figure(figsize=(10, 8))\n",
    "sns.heatmap(\n",
    "    cm, \n",
    "    annot=True, \n",
    "    fmt='d', \n",
    "    cmap='Blues',\n",
    "    xticklabels=EMOTIONS,\n",
    "    yticklabels=EMOTIONS,\n",
    "    cbar_kws={'label': 'Count'}\n",
    ")\n",
    "plt.title(f'CNN Confusion Matrix - Test Accuracy: {test_acc:.4f}', fontsize=14, pad=20)\n",
    "plt.ylabel('True Label', fontsize=12)\n",
    "plt.xlabel('Predicted Label', fontsize=12)\n",
    "plt.tight_layout()\n",
    "plt.savefig('cnn_confusion_matrix.png', dpi=300, bbox_inches='tight')\n",
    "plt.show()\n",
    "\n",
    "print(\"\\nConfusion matrix saved as 'cnn_confusion_matrix.png'\")\n",
    "\n",
    "\n",
    "fig, (ax1, ax2) = plt.subplots(1, 2, figsize=(15, 5))\n",
    "\n",
    "\n",
    "ax1.plot(history['train_loss'], label='Train Loss', marker='o')\n",
    "ax1.plot(history['val_loss'], label='Validation Loss', marker='s')\n",
    "ax1.axvline(x=best_epoch-1, color='r', linestyle='--', label=f'Best Epoch ({best_epoch})')\n",
    "ax1.set_xlabel('Epoch', fontsize=12)\n",
    "ax1.set_ylabel('Loss', fontsize=12)\n",
    "ax1.set_title('CNN Training and Validation Loss', fontsize=14)\n",
    "ax1.legend()\n",
    "ax1.grid(True, alpha=0.3)\n",
    "\n",
    "\n",
    "ax2.plot(history['train_acc'], label='Train Accuracy', marker='o')\n",
    "ax2.plot(history['val_acc'], label='Validation Accuracy', marker='s')\n",
    "ax2.axvline(x=best_epoch-1, color='r', linestyle='--', label=f'Best Epoch ({best_epoch})')\n",
    "ax2.set_xlabel('Epoch', fontsize=12)\n",
    "ax2.set_ylabel('Accuracy', fontsize=12)\n",
    "ax2.set_title('CNN Training and Validation Accuracy', fontsize=14)\n",
    "ax2.legend()\n",
    "ax2.grid(True, alpha=0.3)\n",
    "\n",
    "plt.tight_layout()\n",
    "plt.savefig('cnn_training_history.png', dpi=300, bbox_inches='tight')\n",
    "plt.show()\n",
    "\n",
    "print(\"Training history saved as 'cnn_training_history.png'\")"
   ]
  },
  {
   "cell_type": "code",
   "execution_count": 8,
   "metadata": {
    "execution": {
     "iopub.execute_input": "2025-10-11T06:01:23.208094Z",
     "iopub.status.busy": "2025-10-11T06:01:23.207643Z",
     "iopub.status.idle": "2025-10-11T06:01:23.255417Z",
     "shell.execute_reply": "2025-10-11T06:01:23.254689Z",
     "shell.execute_reply.started": "2025-10-11T06:01:23.208068Z"
    },
    "trusted": true
   },
   "outputs": [
    {
     "name": "stdout",
     "output_type": "stream",
     "text": [
      "\n",
      "==================================================\n",
      "CNN Per-Class Metrics\n",
      "==================================================\n",
      " Emotion  Precision  Recall  F1-Score  Support\n",
      "   angry     0.9279  0.6913    0.7923      149\n",
      " disgust     0.5517  0.7517    0.6364      149\n",
      "    fear     0.8000  0.3221    0.4593      149\n",
      "   happy     0.5747  0.8523    0.6865      149\n",
      " neutral     0.7290  0.7584    0.7434      149\n",
      "     sad     0.8235  0.6577    0.7313      149\n",
      "surprise     0.4943  0.5772    0.5325      149\n",
      "\n",
      "Per-class results saved to 'cnn_per_class_results.csv'\n",
      "\n",
      "Training summary saved to 'cnn_training_summary.pkl'\n",
      "\n",
      "==================================================\n",
      "CNN FINAL SUMMARY\n",
      "==================================================\n",
      "Model: CNN (Custom Architecture)\n",
      "Total Parameters: 1,716,871\n",
      "Total Epochs Trained: 44\n",
      "Best Epoch: 37\n",
      "Best Validation Accuracy: 0.6913\n",
      "Test Accuracy: 0.6587\n",
      "Test Loss: 1.3564\n",
      "\n",
      "Dataset Split:\n",
      "  Training: 3129 samples (60.0%)\n",
      "  Validation: 1043 samples (20.0%)\n",
      "  Test: 1043 samples (20.0%)\n",
      "\n",
      "Input Configuration:\n",
      "  Sample Rate: 16000 Hz\n",
      "  Duration: 3 seconds\n",
      "  Mel Bands: 128\n",
      "  FFT Size: 2048\n",
      "  Hop Length: 512\n",
      "\n",
      "Files saved:\n",
      "  - best_cnn_emotion_model.pth (best model checkpoint)\n",
      "  - cnn_confusion_matrix.png\n",
      "  - cnn_training_history.png\n",
      "  - cnn_per_class_results.csv\n",
      "  - cnn_training_summary.pkl\n",
      "==================================================\n",
      "\n",
      "Test predictions saved to 'cnn_test_predictions.csv'\n",
      "\n",
      "Confusion Matrix (Percentages):\n",
      "          angry  disgust   fear  happy  neutral    sad  surprise\n",
      "angry     69.13    10.07   1.34  14.09     2.68   0.00      2.68\n",
      "disgust    0.67    75.17   0.67  11.41     2.01   0.67      9.40\n",
      "fear       0.67     8.72  32.21  13.42     2.68   6.04     36.24\n",
      "happy      0.00     5.37   0.00  85.23     4.70   1.34      3.36\n",
      "neutral    4.03     3.36   0.67  11.41    75.84   2.68      2.01\n",
      "sad        0.00     4.70   4.03   8.05    12.08  65.77      5.37\n",
      "surprise   0.00    28.86   1.34   4.70     4.03   3.36     57.72\n"
     ]
    }
   ],
   "source": [
    "\n",
    "from sklearn.metrics import precision_recall_fscore_support\n",
    "\n",
    "precision, recall, f1, support = precision_recall_fscore_support(\n",
    "    test_true_labels, test_predictions\n",
    ")\n",
    "\n",
    "results_df = pd.DataFrame({\n",
    "    'Emotion': EMOTIONS,\n",
    "    'Precision': precision,\n",
    "    'Recall': recall,\n",
    "    'F1-Score': f1,\n",
    "    'Support': support\n",
    "})\n",
    "\n",
    "results_df = results_df.round(4)\n",
    "print(\"\\n\" + \"=\"*50)\n",
    "print(\"CNN Per-Class Metrics\")\n",
    "print(\"=\"*50)\n",
    "print(results_df.to_string(index=False))\n",
    "\n",
    "\n",
    "results_df.to_csv('cnn_per_class_results.csv', index=False)\n",
    "print(\"\\nPer-class results saved to 'cnn_per_class_results.csv'\")\n",
    "\n",
    "\n",
    "summary = {\n",
    "    'model_type': 'CNN',\n",
    "    'num_emotions': len(EMOTIONS),\n",
    "    'emotions': EMOTIONS,\n",
    "    'total_epochs': len(history['train_loss']),\n",
    "    'best_epoch': best_epoch,\n",
    "    'train_samples': len(y_train),\n",
    "    'val_samples': len(y_val),\n",
    "    'test_samples': len(y_test),\n",
    "    'best_val_accuracy': best_val_accuracy,\n",
    "    'test_accuracy': test_acc,\n",
    "    'test_loss': test_loss,\n",
    "    'batch_size': BATCH_SIZE,\n",
    "    'learning_rate': LEARNING_RATE,\n",
    "    'hyperparameters': {\n",
    "        'batch_size': BATCH_SIZE,\n",
    "        'learning_rate': LEARNING_RATE,\n",
    "        'num_epochs': NUM_EPOCHS,\n",
    "        'patience': PATIENCE,\n",
    "        'sample_rate': SAMPLE_RATE,\n",
    "        'duration': DURATION,\n",
    "        'n_mels': N_MELS,\n",
    "        'n_fft': N_FFT,\n",
    "        'hop_length': HOP_LENGTH\n",
    "    },\n",
    "    'model_parameters': sum(p.numel() for p in cnn_model.parameters())\n",
    "}\n",
    "\n",
    "\n",
    "with open('cnn_training_summary.pkl', 'wb') as f:\n",
    "    pickle.dump(summary, f)\n",
    "\n",
    "print(\"\\nTraining summary saved to 'cnn_training_summary.pkl'\")\n",
    "\n",
    "\n",
    "print(\"\\n\" + \"=\"*50)\n",
    "print(\"CNN FINAL SUMMARY\")\n",
    "print(\"=\"*50)\n",
    "print(f\"Model: CNN (Custom Architecture)\")\n",
    "print(f\"Total Parameters: {summary['model_parameters']:,}\")\n",
    "print(f\"Total Epochs Trained: {len(history['train_loss'])}\")\n",
    "print(f\"Best Epoch: {best_epoch}\")\n",
    "print(f\"Best Validation Accuracy: {best_val_accuracy:.4f}\")\n",
    "print(f\"Test Accuracy: {test_acc:.4f}\")\n",
    "print(f\"Test Loss: {test_loss:.4f}\")\n",
    "print(\"\\nDataset Split:\")\n",
    "print(f\"  Training: {len(y_train)} samples ({len(y_train)/len(labels)*100:.1f}%)\")\n",
    "print(f\"  Validation: {len(y_val)} samples ({len(y_val)/len(labels)*100:.1f}%)\")\n",
    "print(f\"  Test: {len(y_test)} samples ({len(y_test)/len(labels)*100:.1f}%)\")\n",
    "print(\"\\nInput Configuration:\")\n",
    "print(f\"  Sample Rate: {SAMPLE_RATE} Hz\")\n",
    "print(f\"  Duration: {DURATION} seconds\")\n",
    "print(f\"  Mel Bands: {N_MELS}\")\n",
    "print(f\"  FFT Size: {N_FFT}\")\n",
    "print(f\"  Hop Length: {HOP_LENGTH}\")\n",
    "print(\"\\nFiles saved:\")\n",
    "print(\"  - best_cnn_emotion_model.pth (best model checkpoint)\")\n",
    "print(\"  - cnn_confusion_matrix.png\")\n",
    "print(\"  - cnn_training_history.png\")\n",
    "print(\"  - cnn_per_class_results.csv\")\n",
    "print(\"  - cnn_training_summary.pkl\")\n",
    "print(\"=\"*50)\n",
    "\n",
    "\n",
    "predictions_df = pd.DataFrame({\n",
    "    'True_Label': [EMOTIONS[i] for i in test_true_labels],\n",
    "    'Predicted_Label': [EMOTIONS[i] for i in test_predictions],\n",
    "    'True_Label_Index': test_true_labels,\n",
    "    'Predicted_Label_Index': test_predictions,\n",
    "    'Correct': [t == p for t, p in zip(test_true_labels, test_predictions)]\n",
    "})\n",
    "\n",
    "predictions_df.to_csv('cnn_test_predictions.csv', index=False)\n",
    "print(\"\\nTest predictions saved to 'cnn_test_predictions.csv'\")\n",
    "\n",
    "\n",
    "cm_percent = cm.astype('float') / cm.sum(axis=1)[:, np.newaxis] * 100\n",
    "print(\"\\nConfusion Matrix (Percentages):\")\n",
    "print(pd.DataFrame(cm_percent, index=EMOTIONS, columns=EMOTIONS).round(2))"
   ]
  }
 ],
 "metadata": {
  "kaggle": {
   "accelerator": "nvidiaTeslaT4",
   "dataSources": [
    {
     "datasetId": 8390687,
     "sourceId": 13242268,
     "sourceType": "datasetVersion"
    }
   ],
   "dockerImageVersionId": 31041,
   "isGpuEnabled": true,
   "isInternetEnabled": true,
   "language": "python",
   "sourceType": "notebook"
  },
  "kernelspec": {
   "display_name": "Python 3",
   "language": "python",
   "name": "python3"
  },
  "language_info": {
   "codemirror_mode": {
    "name": "ipython",
    "version": 3
   },
   "file_extension": ".py",
   "mimetype": "text/x-python",
   "name": "python",
   "nbconvert_exporter": "python",
   "pygments_lexer": "ipython3",
   "version": "3.11.11"
  }
 },
 "nbformat": 4,
 "nbformat_minor": 4
}
