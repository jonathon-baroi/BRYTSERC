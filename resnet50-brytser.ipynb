{
 "cells": [
  {
   "cell_type": "code",
   "execution_count": null,
   "metadata": {
    "_cell_guid": "b1076dfc-b9ad-4769-8c92-a6c4dae69d19",
    "_uuid": "8f2839f25d086af736a60e9eeb907d3b93b6e0e5",
    "execution": {
     "iopub.execute_input": "2025-10-11T08:29:03.370094Z",
     "iopub.status.busy": "2025-10-11T08:29:03.369806Z"
    },
    "trusted": true
   },
   "outputs": [],
   "source": [
    "import numpy as np\n",
    "import pandas as pd\n",
    "\n",
    "\n",
    "import os\n",
    "for dirname, _, filenames in os.walk('/kaggle/input'):\n",
    "    for filename in filenames:\n",
    "        print(os.path.join(dirname, filename))\n",
    "\n"
   ]
  },
  {
   "cell_type": "code",
   "execution_count": null,
   "metadata": {
    "execution": {
     "iopub.execute_input": "2025-10-11T08:29:12.376383Z",
     "iopub.status.busy": "2025-10-11T08:29:12.375756Z",
     "iopub.status.idle": "2025-10-11T08:29:19.809819Z",
     "shell.execute_reply": "2025-10-11T08:29:19.809054Z",
     "shell.execute_reply.started": "2025-10-11T08:29:12.376358Z"
    },
    "trusted": true
   },
   "outputs": [
    {
     "name": "stdout",
     "output_type": "stream",
     "text": [
      "Using device: cuda\n"
     ]
    }
   ],
   "source": [
    "import torch\n",
    "import torch.nn as nn\n",
    "import torch.optim as optim\n",
    "from torch.utils.data import Dataset, DataLoader\n",
    "import torchvision.models as models\n",
    "import numpy as np\n",
    "import pandas as pd\n",
    "import librosa\n",
    "from sklearn.model_selection import train_test_split\n",
    "from sklearn.metrics import accuracy_score, classification_report, confusion_matrix\n",
    "import os\n",
    "from tqdm import tqdm\n",
    "import pickle\n",
    "import warnings\n",
    "warnings.filterwarnings('ignore')\n",
    "\n",
    "DATA_PATH = \"/kaggle/input/brytserc/\"\n",
    "EMOTIONS = ['angry', 'disgust', 'fear', 'happy', 'neutral', 'sad', 'surprise']\n",
    "device = torch.device(\"cuda\" if torch.cuda.is_available() else \"cpu\")\n",
    "print(\"Using device:\", device)\n",
    "\n",
    "BATCH_SIZE = 32\n",
    "LEARNING_RATE = 0.0001\n",
    "NUM_EPOCHS = 50\n",
    "PATIENCE = 7  \n",
    "SAMPLE_RATE = 16000\n",
    "DURATION = 3  \n",
    "N_MELS = 128 \n",
    "N_FFT = 2048\n",
    "HOP_LENGTH = 512\n",
    "FREEZE_BACKBONE = False  "
   ]
  },
  {
   "cell_type": "code",
   "execution_count": null,
   "metadata": {
    "execution": {
     "iopub.execute_input": "2025-10-11T08:29:19.811917Z",
     "iopub.status.busy": "2025-10-11T08:29:19.811136Z",
     "iopub.status.idle": "2025-10-11T08:29:19.820264Z",
     "shell.execute_reply": "2025-10-11T08:29:19.819711Z",
     "shell.execute_reply.started": "2025-10-11T08:29:19.811895Z"
    },
    "trusted": true
   },
   "outputs": [],
   "source": [
    "def extract_mel_spectrogram_resnet(audio, sr=SAMPLE_RATE, n_mels=N_MELS, n_fft=N_FFT, hop_length=HOP_LENGTH):\n",
    "    mel_spec = librosa.feature.melspectrogram(\n",
    "        y=audio,\n",
    "        sr=sr,\n",
    "        n_mels=n_mels,\n",
    "        n_fft=n_fft,\n",
    "        hop_length=hop_length\n",
    "    )\n",
    "    \n",
    "    \n",
    "    mel_spec_db = librosa.power_to_db(mel_spec, ref=np.max)\n",
    "    \n",
    "    return mel_spec_db\n",
    "\n",
    "class ResNetEmotionDataset(Dataset):\n",
    "    def __init__(self, audio_files, labels, sample_rate=SAMPLE_RATE, duration=DURATION):\n",
    "        self.audio_files = audio_files\n",
    "        self.labels = labels\n",
    "        self.sample_rate = sample_rate\n",
    "        self.duration = duration\n",
    "        self.max_length = sample_rate * duration\n",
    "        \n",
    "    def __len__(self):\n",
    "        return len(self.labels)\n",
    "    \n",
    "    def __getitem__(self, idx):\n",
    "     \n",
    "        audio = self.audio_files[idx]\n",
    "        label = self.labels[idx]\n",
    "        \n",
    "    \n",
    "        if len(audio) > self.max_length:\n",
    "            audio = audio[:self.max_length]\n",
    "        else:\n",
    "            audio = np.pad(audio, (0, self.max_length - len(audio)), mode='constant')\n",
    "        \n",
    "    \n",
    "        mel_spec = extract_mel_spectrogram_resnet(audio)\n",
    "        \n",
    "  \n",
    "        mel_spec = (mel_spec - mel_spec.mean()) / (mel_spec.std() + 1e-8)\n",
    "       \n",
    "        mel_spec_3ch = np.stack([mel_spec, mel_spec, mel_spec], axis=0)\n",
    "        \n",
    "        return {\n",
    "            'spectrogram': torch.FloatTensor(mel_spec_3ch),\n",
    "            'label': torch.LongTensor([label])[0]\n",
    "        }\n",
    "\n",
    "def resnet_collate_fn(batch):\n",
    "    spectrograms = torch.stack([item['spectrogram'] for item in batch])\n",
    "    labels = torch.stack([item['label'] for item in batch])\n",
    "    \n",
    "    return {\n",
    "        'spectrogram': spectrograms,\n",
    "        'labels': labels\n",
    "    }"
   ]
  },
  {
   "cell_type": "code",
   "execution_count": null,
   "metadata": {
    "execution": {
     "iopub.execute_input": "2025-10-11T08:29:19.821372Z",
     "iopub.status.busy": "2025-10-11T08:29:19.821130Z",
     "iopub.status.idle": "2025-10-11T08:31:03.951533Z",
     "shell.execute_reply": "2025-10-11T08:31:03.950705Z",
     "shell.execute_reply.started": "2025-10-11T08:29:19.821350Z"
    },
    "trusted": true
   },
   "outputs": [
    {
     "name": "stdout",
     "output_type": "stream",
     "text": [
      "Loading data for ResNet50...\n",
      "Found 5215 audio files\n"
     ]
    },
    {
     "name": "stderr",
     "output_type": "stream",
     "text": [
      "Loading audio files: 100%|██████████| 5215/5215 [01:42<00:00, 50.66it/s]\n"
     ]
    },
    {
     "name": "stdout",
     "output_type": "stream",
     "text": [
      "\n",
      "Emotion distribution:\n",
      "  angry: 745\n",
      "  disgust: 745\n",
      "  fear: 745\n",
      "  happy: 745\n",
      "  neutral: 745\n",
      "  sad: 745\n",
      "  surprise: 745\n",
      "\n",
      "Total samples: 5215\n",
      "Label distribution: [745 745 745 745 745 745 745]\n",
      "\n",
      "Train samples: 3129 (60.0%)\n",
      "Validation samples: 1043 (20.0%)\n",
      "Test samples: 1043 (20.0%)\n",
      "\n",
      "Data loading complete!\n",
      "Spectrogram shape: torch.Size([3, 128, 94])\n"
     ]
    }
   ],
   "source": [
    "def load_emotion_data_resnet(data_path):\n",
    "    all_features = []\n",
    "    all_labels = []\n",
    "    \n",
    "    print(\"Loading data for ResNet50...\")\n",
    "    \n",
    "\n",
    "    all_files = [f for f in os.listdir(data_path) if f.endswith('.wav')]\n",
    "    print(f\"Found {len(all_files)} audio files\")\n",
    "    \n",
    "    if len(all_files) == 0:\n",
    "        raise ValueError(f\"No .wav files found in {data_path}\")\n",
    "    \n",
    "\n",
    "    emotion_counts = {emotion: 0 for emotion in EMOTIONS}\n",
    "    \n",
    "    for file in tqdm(all_files, desc=\"Loading audio files\"):\n",
    "        try:\n",
    "            \n",
    "            emotion_name = file.split('_')[0].lower()\n",
    "            \n",
    "         \n",
    "            if emotion_name not in [e.lower() for e in EMOTIONS]:\n",
    "                print(f\"Warning: Unknown emotion '{emotion_name}' in file {file}\")\n",
    "                continue\n",
    "            \n",
    "    \n",
    "            emotion_idx = [e.lower() for e in EMOTIONS].index(emotion_name)\n",
    "            \n",
    "       \n",
    "            file_path = os.path.join(data_path, file)\n",
    "            audio, sr = librosa.load(file_path, sr=SAMPLE_RATE)\n",
    "            \n",
    "            all_features.append(audio)\n",
    "            all_labels.append(emotion_idx)\n",
    "            emotion_counts[EMOTIONS[emotion_idx]] += 1\n",
    "            \n",
    "        except Exception as e:\n",
    "            print(f\"Error loading {file}: {e}\")\n",
    "            continue\n",
    "    \n",
    "    print(\"\\nEmotion distribution:\")\n",
    "    for emotion, count in emotion_counts.items():\n",
    "        print(f\"  {emotion}: {count}\")\n",
    "    \n",
    "    return all_features, np.array(all_labels)\n",
    "\n",
    "features, labels = load_emotion_data_resnet(DATA_PATH)\n",
    "print(f\"\\nTotal samples: {len(labels)}\")\n",
    "\n",
    "if len(labels) == 0:\n",
    "    raise ValueError(\"No data loaded! Please check your data path and file format.\")\n",
    "\n",
    "print(f\"Label distribution: {np.bincount(labels)}\")\n",
    "\n",
    "X_train, X_temp, y_train, y_temp = train_test_split(\n",
    "    features, labels, test_size=0.4, random_state=42, stratify=labels\n",
    ")\n",
    "\n",
    "X_val, X_test, y_val, y_test = train_test_split(\n",
    "    X_temp, y_temp, test_size=0.5, random_state=42, stratify=y_temp\n",
    ")\n",
    "\n",
    "print(f\"\\nTrain samples: {len(y_train)} ({len(y_train)/len(labels)*100:.1f}%)\")\n",
    "print(f\"Validation samples: {len(y_val)} ({len(y_val)/len(labels)*100:.1f}%)\")\n",
    "print(f\"Test samples: {len(y_test)} ({len(y_test)/len(labels)*100:.1f}%)\")\n",
    "\n",
    "train_dataset = ResNetEmotionDataset(X_train, y_train)\n",
    "val_dataset = ResNetEmotionDataset(X_val, y_val)\n",
    "test_dataset = ResNetEmotionDataset(X_test, y_test)\n",
    "\n",
    "train_loader = DataLoader(\n",
    "    train_dataset, batch_size=BATCH_SIZE, shuffle=True, collate_fn=resnet_collate_fn, num_workers=2\n",
    ")\n",
    "val_loader = DataLoader(\n",
    "    val_dataset, batch_size=BATCH_SIZE, shuffle=False, collate_fn=resnet_collate_fn, num_workers=2\n",
    ")\n",
    "test_loader = DataLoader(\n",
    "    test_dataset, batch_size=BATCH_SIZE, shuffle=False, collate_fn=resnet_collate_fn, num_workers=2\n",
    ")\n",
    "\n",
    "print(\"\\nData loading complete!\")\n",
    "print(f\"Spectrogram shape: {train_dataset[0]['spectrogram'].shape}\")"
   ]
  },
  {
   "cell_type": "code",
   "execution_count": null,
   "metadata": {
    "execution": {
     "iopub.execute_input": "2025-10-11T08:31:03.953578Z",
     "iopub.status.busy": "2025-10-11T08:31:03.953164Z",
     "iopub.status.idle": "2025-10-11T08:31:05.222729Z",
     "shell.execute_reply": "2025-10-11T08:31:05.221924Z",
     "shell.execute_reply.started": "2025-10-11T08:31:03.953554Z"
    },
    "trusted": true
   },
   "outputs": [
    {
     "name": "stdout",
     "output_type": "stream",
     "text": [
      "Loading pre-trained ResNet50 weights from ImageNet...\n"
     ]
    },
    {
     "name": "stderr",
     "output_type": "stream",
     "text": [
      "Downloading: \"https://download.pytorch.org/models/resnet50-0676ba61.pth\" to /root/.cache/torch/hub/checkpoints/resnet50-0676ba61.pth\n",
      "100%|██████████| 97.8M/97.8M [00:00<00:00, 221MB/s]\n"
     ]
    },
    {
     "name": "stdout",
     "output_type": "stream",
     "text": [
      "\n",
      "ResNet50 Model initialized\n",
      "Total parameters: 24,691,783\n",
      "Trainable parameters: 24,691,783\n",
      "\n",
      "✓ Full model is TRAINABLE - fine-tuning all layers\n"
     ]
    }
   ],
   "source": [
    "class EmotionResNet50(nn.Module):\n",
    "    def __init__(self, num_classes=7, dropout=0.5, freeze_backbone=False, pretrained=True):\n",
    "        super(EmotionResNet50, self).__init__()\n",
    "        \n",
    "      \n",
    "        if pretrained:\n",
    "            print(\"Loading pre-trained ResNet50 weights from ImageNet...\")\n",
    "            self.resnet = models.resnet50(pretrained=True)\n",
    "        else:\n",
    "            print(\"Initializing ResNet50 from scratch...\")\n",
    "            self.resnet = models.resnet50(pretrained=False)\n",
    "        \n",
    "        \n",
    "        if freeze_backbone:\n",
    "            print(\"Freezing ResNet50 backbone layers...\")\n",
    "            for param in self.resnet.parameters():\n",
    "                param.requires_grad = False\n",
    "        \n",
    "        \n",
    "        num_features = self.resnet.fc.in_features\n",
    "        \n",
    "     \n",
    "        self.resnet.fc = nn.Sequential(\n",
    "            nn.Dropout(dropout),\n",
    "            nn.Linear(num_features, 512),\n",
    "            nn.ReLU(),\n",
    "            nn.BatchNorm1d(512),\n",
    "            nn.Dropout(dropout),\n",
    "            nn.Linear(512, 256),\n",
    "            nn.ReLU(),\n",
    "            nn.BatchNorm1d(256),\n",
    "            nn.Dropout(dropout),\n",
    "            nn.Linear(256, num_classes)\n",
    "        )\n",
    "        \n",
    "    def forward(self, x):\n",
    "        \n",
    "        return self.resnet(x)\n",
    "\n",
    "resnet_model = EmotionResNet50(\n",
    "    num_classes=len(EMOTIONS),\n",
    "    dropout=0.5,\n",
    "    freeze_backbone=FREEZE_BACKBONE,\n",
    "    pretrained=True\n",
    ")\n",
    "\n",
    "resnet_model = resnet_model.to(device)\n",
    "\n",
    "print(f\"\\nResNet50 Model initialized\")\n",
    "print(f\"Total parameters: {sum(p.numel() for p in resnet_model.parameters()):,}\")\n",
    "print(f\"Trainable parameters: {sum(p.numel() for p in resnet_model.parameters() if p.requires_grad):,}\")\n",
    "\n",
    "\n",
    "if FREEZE_BACKBONE:\n",
    "    print(\"\\n⚠️ Backbone is FROZEN - only training the classification head\")\n",
    "else:\n",
    "    print(\"\\n✓ Full model is TRAINABLE - fine-tuning all layers\")"
   ]
  },
  {
   "cell_type": "code",
   "execution_count": null,
   "metadata": {
    "execution": {
     "iopub.execute_input": "2025-10-11T08:31:05.223931Z",
     "iopub.status.busy": "2025-10-11T08:31:05.223678Z",
     "iopub.status.idle": "2025-10-11T08:31:05.234611Z",
     "shell.execute_reply": "2025-10-11T08:31:05.233951Z",
     "shell.execute_reply.started": "2025-10-11T08:31:05.223905Z"
    },
    "trusted": true
   },
   "outputs": [],
   "source": [
    "def train_epoch_resnet(model, dataloader, criterion, optimizer, device):\n",
    "    model.train()\n",
    "    total_loss = 0\n",
    "    predictions = []\n",
    "    true_labels = []\n",
    "    \n",
    "    progress_bar = tqdm(dataloader, desc=\"Training\")\n",
    "    \n",
    "    for batch in progress_bar:\n",
    "        spectrogram = batch['spectrogram'].to(device)\n",
    "        labels = batch['labels'].to(device)\n",
    "        \n",
    "  \n",
    "        optimizer.zero_grad()\n",
    "        \n",
    "\n",
    "        logits = model(spectrogram)\n",
    "        loss = criterion(logits, labels)\n",
    "        \n",
    "\n",
    "        loss.backward()\n",
    "        \n",
    "       \n",
    "        torch.nn.utils.clip_grad_norm_(model.parameters(), max_norm=1.0)\n",
    "        \n",
    "        optimizer.step()\n",
    "        \n",
    "\n",
    "        total_loss += loss.item()\n",
    "        preds = torch.argmax(logits, dim=1).cpu().numpy()\n",
    "        predictions.extend(preds)\n",
    "        true_labels.extend(labels.cpu().numpy())\n",
    "    \n",
    "        progress_bar.set_postfix({'loss': loss.item()})\n",
    "    \n",
    "    avg_loss = total_loss / len(dataloader)\n",
    "    accuracy = accuracy_score(true_labels, predictions)\n",
    "    \n",
    "    return avg_loss, accuracy\n",
    "\n",
    "def validate_resnet(model, dataloader, criterion, device):\n",
    "    model.eval()\n",
    "    total_loss = 0\n",
    "    predictions = []\n",
    "    true_labels = []\n",
    "    \n",
    "    with torch.no_grad():\n",
    "        for batch in tqdm(dataloader, desc=\"Validating\"):\n",
    "            spectrogram = batch['spectrogram'].to(device)\n",
    "            labels = batch['labels'].to(device)\n",
    "            \n",
    "     \n",
    "            logits = model(spectrogram)\n",
    "            loss = criterion(logits, labels)\n",
    "            \n",
    "      \n",
    "            total_loss += loss.item()\n",
    "            preds = torch.argmax(logits, dim=1).cpu().numpy()\n",
    "            predictions.extend(preds)\n",
    "            true_labels.extend(labels.cpu().numpy())\n",
    "    \n",
    "    avg_loss = total_loss / len(dataloader)\n",
    "    accuracy = accuracy_score(true_labels, predictions)\n",
    "    \n",
    "    return avg_loss, accuracy, predictions, true_labels"
   ]
  },
  {
   "cell_type": "code",
   "execution_count": null,
   "metadata": {
    "execution": {
     "iopub.execute_input": "2025-10-11T08:31:05.235815Z",
     "iopub.status.busy": "2025-10-11T08:31:05.235564Z",
     "iopub.status.idle": "2025-10-11T08:36:07.540681Z",
     "shell.execute_reply": "2025-10-11T08:36:07.539778Z",
     "shell.execute_reply.started": "2025-10-11T08:31:05.235791Z"
    },
    "trusted": true
   },
   "outputs": [
    {
     "name": "stdout",
     "output_type": "stream",
     "text": [
      "\n",
      "==================================================\n",
      "Starting ResNet50 Training\n",
      "==================================================\n",
      "\n",
      "Epoch 1/50\n",
      "--------------------------------------------------\n"
     ]
    },
    {
     "name": "stderr",
     "output_type": "stream",
     "text": [
      "Training: 100%|██████████| 98/98 [00:14<00:00,  6.99it/s, loss=1.79]\n",
      "Validating: 100%|██████████| 33/33 [00:04<00:00,  8.21it/s]\n"
     ]
    },
    {
     "name": "stdout",
     "output_type": "stream",
     "text": [
      "\n",
      "Train Loss: 2.0266 | Train Acc: 0.2167\n",
      "Val Loss: 1.6428 | Val Acc: 0.3720\n",
      "Learning Rate: 0.0001000\n",
      "✓ New best model! Validation accuracy: 0.3720\n",
      "\n",
      "Epoch 2/50\n",
      "--------------------------------------------------\n"
     ]
    },
    {
     "name": "stderr",
     "output_type": "stream",
     "text": [
      "Training: 100%|██████████| 98/98 [00:13<00:00,  7.40it/s, loss=1.22]\n",
      "Validating: 100%|██████████| 33/33 [00:04<00:00,  8.07it/s]\n"
     ]
    },
    {
     "name": "stdout",
     "output_type": "stream",
     "text": [
      "\n",
      "Train Loss: 1.5724 | Train Acc: 0.4043\n",
      "Val Loss: 1.3239 | Val Acc: 0.5244\n",
      "Learning Rate: 0.0001000\n",
      "✓ New best model! Validation accuracy: 0.5244\n",
      "\n",
      "Epoch 3/50\n",
      "--------------------------------------------------\n"
     ]
    },
    {
     "name": "stderr",
     "output_type": "stream",
     "text": [
      "Training: 100%|██████████| 98/98 [00:12<00:00,  7.65it/s, loss=1.72] \n",
      "Validating: 100%|██████████| 33/33 [00:04<00:00,  7.77it/s]\n"
     ]
    },
    {
     "name": "stdout",
     "output_type": "stream",
     "text": [
      "\n",
      "Train Loss: 1.1611 | Train Acc: 0.5954\n",
      "Val Loss: 1.1521 | Val Acc: 0.6040\n",
      "Learning Rate: 0.0001000\n",
      "✓ New best model! Validation accuracy: 0.6040\n",
      "\n",
      "Epoch 4/50\n",
      "--------------------------------------------------\n"
     ]
    },
    {
     "name": "stderr",
     "output_type": "stream",
     "text": [
      "Training: 100%|██████████| 98/98 [00:12<00:00,  7.63it/s, loss=0.716]\n",
      "Validating: 100%|██████████| 33/33 [00:04<00:00,  8.04it/s]\n"
     ]
    },
    {
     "name": "stdout",
     "output_type": "stream",
     "text": [
      "\n",
      "Train Loss: 0.7624 | Train Acc: 0.7498\n",
      "Val Loss: 1.0274 | Val Acc: 0.6510\n",
      "Learning Rate: 0.0001000\n",
      "✓ New best model! Validation accuracy: 0.6510\n",
      "\n",
      "Epoch 5/50\n",
      "--------------------------------------------------\n"
     ]
    },
    {
     "name": "stderr",
     "output_type": "stream",
     "text": [
      "Training: 100%|██████████| 98/98 [00:13<00:00,  7.47it/s, loss=0.262]\n",
      "Validating: 100%|██████████| 33/33 [00:03<00:00,  8.31it/s]\n"
     ]
    },
    {
     "name": "stdout",
     "output_type": "stream",
     "text": [
      "\n",
      "Train Loss: 0.4426 | Train Acc: 0.8623\n",
      "Val Loss: 1.0545 | Val Acc: 0.6568\n",
      "Learning Rate: 0.0001000\n",
      "✓ New best model! Validation accuracy: 0.6568\n",
      "\n",
      "Epoch 6/50\n",
      "--------------------------------------------------\n"
     ]
    },
    {
     "name": "stderr",
     "output_type": "stream",
     "text": [
      "Training: 100%|██████████| 98/98 [00:13<00:00,  7.07it/s, loss=0.0879]\n",
      "Validating: 100%|██████████| 33/33 [00:04<00:00,  7.99it/s]\n"
     ]
    },
    {
     "name": "stdout",
     "output_type": "stream",
     "text": [
      "\n",
      "Train Loss: 0.2446 | Train Acc: 0.9345\n",
      "Val Loss: 1.1571 | Val Acc: 0.6424\n",
      "Learning Rate: 0.0001000\n",
      "No improvement. Patience: 1/7\n",
      "\n",
      "Epoch 7/50\n",
      "--------------------------------------------------\n"
     ]
    },
    {
     "name": "stderr",
     "output_type": "stream",
     "text": [
      "Training: 100%|██████████| 98/98 [00:13<00:00,  7.28it/s, loss=0.154] \n",
      "Validating: 100%|██████████| 33/33 [00:04<00:00,  8.17it/s]\n"
     ]
    },
    {
     "name": "stdout",
     "output_type": "stream",
     "text": [
      "\n",
      "Train Loss: 0.1585 | Train Acc: 0.9569\n",
      "Val Loss: 1.1705 | Val Acc: 0.6596\n",
      "Learning Rate: 0.0001000\n",
      "✓ New best model! Validation accuracy: 0.6596\n",
      "\n",
      "Epoch 8/50\n",
      "--------------------------------------------------\n"
     ]
    },
    {
     "name": "stderr",
     "output_type": "stream",
     "text": [
      "Training: 100%|██████████| 98/98 [00:13<00:00,  7.36it/s, loss=0.123] \n",
      "Validating: 100%|██████████| 33/33 [00:04<00:00,  7.98it/s]\n"
     ]
    },
    {
     "name": "stdout",
     "output_type": "stream",
     "text": [
      "\n",
      "Train Loss: 0.1207 | Train Acc: 0.9652\n",
      "Val Loss: 1.2414 | Val Acc: 0.6587\n",
      "Learning Rate: 0.0001000\n",
      "No improvement. Patience: 1/7\n",
      "\n",
      "Epoch 9/50\n",
      "--------------------------------------------------\n"
     ]
    },
    {
     "name": "stderr",
     "output_type": "stream",
     "text": [
      "Training: 100%|██████████| 98/98 [00:13<00:00,  7.50it/s, loss=0.0403]\n",
      "Validating: 100%|██████████| 33/33 [00:04<00:00,  8.20it/s]\n"
     ]
    },
    {
     "name": "stdout",
     "output_type": "stream",
     "text": [
      "\n",
      "Train Loss: 0.0967 | Train Acc: 0.9751\n",
      "Val Loss: 1.3076 | Val Acc: 0.6692\n",
      "Learning Rate: 0.0001000\n",
      "✓ New best model! Validation accuracy: 0.6692\n",
      "\n",
      "Epoch 10/50\n",
      "--------------------------------------------------\n"
     ]
    },
    {
     "name": "stderr",
     "output_type": "stream",
     "text": [
      "Training: 100%|██████████| 98/98 [00:13<00:00,  7.08it/s, loss=0.0259]\n",
      "Validating: 100%|██████████| 33/33 [00:04<00:00,  8.08it/s]\n"
     ]
    },
    {
     "name": "stdout",
     "output_type": "stream",
     "text": [
      "\n",
      "Train Loss: 0.0784 | Train Acc: 0.9824\n",
      "Val Loss: 1.2273 | Val Acc: 0.6951\n",
      "Learning Rate: 0.0001000\n",
      "✓ New best model! Validation accuracy: 0.6951\n",
      "\n",
      "Epoch 11/50\n",
      "--------------------------------------------------\n"
     ]
    },
    {
     "name": "stderr",
     "output_type": "stream",
     "text": [
      "Training: 100%|██████████| 98/98 [00:13<00:00,  7.17it/s, loss=0.0692] \n",
      "Validating: 100%|██████████| 33/33 [00:03<00:00,  8.50it/s]\n"
     ]
    },
    {
     "name": "stdout",
     "output_type": "stream",
     "text": [
      "\n",
      "Train Loss: 0.0710 | Train Acc: 0.9786\n",
      "Val Loss: 1.3439 | Val Acc: 0.6779\n",
      "Learning Rate: 0.0001000\n",
      "No improvement. Patience: 1/7\n",
      "\n",
      "Epoch 12/50\n",
      "--------------------------------------------------\n"
     ]
    },
    {
     "name": "stderr",
     "output_type": "stream",
     "text": [
      "Training: 100%|██████████| 98/98 [00:12<00:00,  7.58it/s, loss=0.0322] \n",
      "Validating: 100%|██████████| 33/33 [00:04<00:00,  8.21it/s]\n"
     ]
    },
    {
     "name": "stdout",
     "output_type": "stream",
     "text": [
      "\n",
      "Train Loss: 0.0557 | Train Acc: 0.9837\n",
      "Val Loss: 1.3543 | Val Acc: 0.6846\n",
      "Learning Rate: 0.0001000\n",
      "No improvement. Patience: 2/7\n",
      "\n",
      "Epoch 13/50\n",
      "--------------------------------------------------\n"
     ]
    },
    {
     "name": "stderr",
     "output_type": "stream",
     "text": [
      "Training: 100%|██████████| 98/98 [00:13<00:00,  7.45it/s, loss=0.14]   \n",
      "Validating: 100%|██████████| 33/33 [00:04<00:00,  8.02it/s]\n"
     ]
    },
    {
     "name": "stdout",
     "output_type": "stream",
     "text": [
      "\n",
      "Train Loss: 0.0743 | Train Acc: 0.9779\n",
      "Val Loss: 1.5460 | Val Acc: 0.6529\n",
      "Learning Rate: 0.0001000\n",
      "No improvement. Patience: 3/7\n",
      "\n",
      "Epoch 14/50\n",
      "--------------------------------------------------\n"
     ]
    },
    {
     "name": "stderr",
     "output_type": "stream",
     "text": [
      "Training: 100%|██████████| 98/98 [00:13<00:00,  7.23it/s, loss=0.017]  \n",
      "Validating: 100%|██████████| 33/33 [00:03<00:00,  8.36it/s]\n"
     ]
    },
    {
     "name": "stdout",
     "output_type": "stream",
     "text": [
      "\n",
      "Train Loss: 0.0617 | Train Acc: 0.9863\n",
      "Val Loss: 1.4576 | Val Acc: 0.6826\n",
      "Learning Rate: 0.0001000\n",
      "No improvement. Patience: 4/7\n",
      "\n",
      "Epoch 15/50\n",
      "--------------------------------------------------\n"
     ]
    },
    {
     "name": "stderr",
     "output_type": "stream",
     "text": [
      "Training: 100%|██████████| 98/98 [00:13<00:00,  7.33it/s, loss=0.0309] \n",
      "Validating: 100%|██████████| 33/33 [00:03<00:00,  8.30it/s]\n"
     ]
    },
    {
     "name": "stdout",
     "output_type": "stream",
     "text": [
      "\n",
      "Train Loss: 0.0525 | Train Acc: 0.9840\n",
      "Val Loss: 1.5638 | Val Acc: 0.6884\n",
      "Learning Rate: 0.0001000\n",
      "No improvement. Patience: 5/7\n",
      "\n",
      "Epoch 16/50\n",
      "--------------------------------------------------\n"
     ]
    },
    {
     "name": "stderr",
     "output_type": "stream",
     "text": [
      "Training: 100%|██████████| 98/98 [00:13<00:00,  7.06it/s, loss=0.049]   \n",
      "Validating: 100%|██████████| 33/33 [00:04<00:00,  8.10it/s]\n"
     ]
    },
    {
     "name": "stdout",
     "output_type": "stream",
     "text": [
      "\n",
      "Train Loss: 0.0490 | Train Acc: 0.9843\n",
      "Val Loss: 1.5811 | Val Acc: 0.6836\n",
      "Learning Rate: 0.0000500\n",
      "No improvement. Patience: 6/7\n",
      "\n",
      "Epoch 17/50\n",
      "--------------------------------------------------\n"
     ]
    },
    {
     "name": "stderr",
     "output_type": "stream",
     "text": [
      "Training: 100%|██████████| 98/98 [00:13<00:00,  7.33it/s, loss=0.00836]\n",
      "Validating: 100%|██████████| 33/33 [00:04<00:00,  7.92it/s]"
     ]
    },
    {
     "name": "stdout",
     "output_type": "stream",
     "text": [
      "\n",
      "Train Loss: 0.0377 | Train Acc: 0.9882\n",
      "Val Loss: 1.5717 | Val Acc: 0.6922\n",
      "Learning Rate: 0.0000500\n",
      "No improvement. Patience: 7/7\n",
      "\n",
      "Early stopping triggered after 17 epochs\n",
      "\n",
      "==================================================\n",
      "ResNet50 Training Complete!\n",
      "Best validation accuracy: 0.6951 at epoch 10\n",
      "==================================================\n",
      "\n",
      "Best ResNet50 model loaded for evaluation\n"
     ]
    },
    {
     "name": "stderr",
     "output_type": "stream",
     "text": [
      "\n"
     ]
    }
   ],
   "source": [
    "\n",
    "criterion = nn.CrossEntropyLoss()\n",
    "\n",
    "\n",
    "if FREEZE_BACKBONE:\n",
    "    optimizer = optim.AdamW(resnet_model.parameters(), lr=LEARNING_RATE, weight_decay=1e-4)\n",
    "else:\n",
    "   \n",
    "    optimizer = optim.AdamW([\n",
    "        {'params': resnet_model.resnet.layer1.parameters(), 'lr': LEARNING_RATE * 0.1},\n",
    "        {'params': resnet_model.resnet.layer2.parameters(), 'lr': LEARNING_RATE * 0.1},\n",
    "        {'params': resnet_model.resnet.layer3.parameters(), 'lr': LEARNING_RATE * 0.5},\n",
    "        {'params': resnet_model.resnet.layer4.parameters(), 'lr': LEARNING_RATE * 0.5},\n",
    "        {'params': resnet_model.resnet.fc.parameters(), 'lr': LEARNING_RATE}\n",
    "    ], weight_decay=1e-4)\n",
    "\n",
    "\n",
    "scheduler = optim.lr_scheduler.ReduceLROnPlateau(\n",
    "    optimizer, mode='max', factor=0.5, patience=5, verbose=True, min_lr=1e-7\n",
    ")\n",
    "\n",
    "history = {\n",
    "    'train_loss': [],\n",
    "    'train_acc': [],\n",
    "    'val_loss': [],\n",
    "    'val_acc': []\n",
    "}\n",
    "\n",
    "\n",
    "best_val_accuracy = 0.0\n",
    "best_model_state = None\n",
    "best_epoch = 0\n",
    "patience_counter = 0\n",
    "\n",
    "print(\"\\n\" + \"=\"*50)\n",
    "print(\"Starting ResNet50 Training\")\n",
    "print(\"=\"*50)\n",
    "\n",
    "for epoch in range(NUM_EPOCHS):\n",
    "    print(f\"\\nEpoch {epoch+1}/{NUM_EPOCHS}\")\n",
    "    print(\"-\" * 50)\n",
    "    \n",
    "    train_loss, train_acc = train_epoch_resnet(resnet_model, train_loader, criterion, optimizer, device)\n",
    "    \n",
    "\n",
    "    val_loss, val_acc, _, _ = validate_resnet(resnet_model, val_loader, criterion, device)\n",
    " \n",
    "    scheduler.step(val_acc)\n",
    "    \n",
    "\n",
    "    history['train_loss'].append(train_loss)\n",
    "    history['train_acc'].append(train_acc)\n",
    "    history['val_loss'].append(val_loss)\n",
    "    history['val_acc'].append(val_acc)\n",
    "    \n",
    " \n",
    "    current_lr = optimizer.param_groups[-1]['lr'] \n",
    "    print(f\"\\nTrain Loss: {train_loss:.4f} | Train Acc: {train_acc:.4f}\")\n",
    "    print(f\"Val Loss: {val_loss:.4f} | Val Acc: {val_acc:.4f}\")\n",
    "    print(f\"Learning Rate: {current_lr:.7f}\")\n",
    "    \n",
    "\n",
    "    if val_acc > best_val_accuracy:\n",
    "        best_val_accuracy = val_acc\n",
    "        best_epoch = epoch + 1\n",
    "        best_model_state = resnet_model.state_dict().copy()\n",
    "        patience_counter = 0\n",
    "        print(f\"✓ New best model! Validation accuracy: {val_acc:.4f}\")\n",
    "        \n",
    "  \n",
    "        torch.save({\n",
    "            'epoch': epoch,\n",
    "            'model_state_dict': best_model_state,\n",
    "            'optimizer_state_dict': optimizer.state_dict(),\n",
    "            'val_accuracy': best_val_accuracy,\n",
    "            'history': history\n",
    "        }, 'best_resnet50_emotion_model.pth')\n",
    "    else:\n",
    "        patience_counter += 1\n",
    "        print(f\"No improvement. Patience: {patience_counter}/{PATIENCE}\")\n",
    "    \n",
    "    if patience_counter >= PATIENCE:\n",
    "        print(f\"\\nEarly stopping triggered after {epoch+1} epochs\")\n",
    "        break\n",
    "\n",
    "print(\"\\n\" + \"=\"*50)\n",
    "print(\"ResNet50 Training Complete!\")\n",
    "print(f\"Best validation accuracy: {best_val_accuracy:.4f} at epoch {best_epoch}\")\n",
    "print(\"=\"*50)\n",
    "\n",
    "\n",
    "resnet_model.load_state_dict(best_model_state)\n",
    "print(\"\\nBest ResNet50 model loaded for evaluation\")"
   ]
  },
  {
   "cell_type": "code",
   "execution_count": null,
   "metadata": {
    "execution": {
     "iopub.execute_input": "2025-10-11T08:36:07.542525Z",
     "iopub.status.busy": "2025-10-11T08:36:07.541787Z",
     "iopub.status.idle": "2025-10-11T08:36:14.540169Z",
     "shell.execute_reply": "2025-10-11T08:36:14.539364Z",
     "shell.execute_reply.started": "2025-10-11T08:36:07.542490Z"
    },
    "trusted": true
   },
   "outputs": [
    {
     "name": "stdout",
     "output_type": "stream",
     "text": [
      "\n",
      "==================================================\n",
      "Evaluating ResNet50 on Test Set\n",
      "==================================================\n"
     ]
    },
    {
     "name": "stderr",
     "output_type": "stream",
     "text": [
      "Validating: 100%|██████████| 33/33 [00:04<00:00,  7.95it/s]\n"
     ]
    },
    {
     "name": "stdout",
     "output_type": "stream",
     "text": [
      "\n",
      "Test Loss: 1.4582\n",
      "Test Accuracy: 0.7220\n",
      "\n",
      "==================================================\n",
      "ResNet50 Classification Report\n",
      "==================================================\n",
      "              precision    recall  f1-score   support\n",
      "\n",
      "       angry     0.7791    0.8523    0.8141       149\n",
      "     disgust     0.6597    0.6376    0.6485       149\n",
      "        fear     0.6405    0.6577    0.6490       149\n",
      "       happy     0.8613    0.7919    0.8252       149\n",
      "     neutral     0.7329    0.7181    0.7254       149\n",
      "         sad     0.7532    0.7785    0.7657       149\n",
      "    surprise     0.6301    0.6174    0.6237       149\n",
      "\n",
      "    accuracy                         0.7220      1043\n",
      "   macro avg     0.7224    0.7220    0.7217      1043\n",
      "weighted avg     0.7224    0.7220    0.7217      1043\n",
      "\n"
     ]
    },
    {
     "data": {
      "image/png": "[encoded data removed]",
      "text/plain": [
       "<Figure size 1000x800 with 2 Axes>"
      ]
     },
     "metadata": {},
     "output_type": "display_data"
    },
    {
     "name": "stdout",
     "output_type": "stream",
     "text": [
      "\n",
      "Confusion matrix saved as 'resnet50_confusion_matrix.png'\n"
     ]
    },
    {
     "data": {
      "image/png": "[encoded data removed]",
      "text/plain": [
       "<Figure size 1500x500 with 2 Axes>"
      ]
     },
     "metadata": {},
     "output_type": "display_data"
    },
    {
     "name": "stdout",
     "output_type": "stream",
     "text": [
      "Training history saved as 'resnet50_training_history.png'\n"
     ]
    }
   ],
   "source": [
    "import matplotlib.pyplot as plt\n",
    "import seaborn as sns\n",
    "\n",
    "print(\"\\n\" + \"=\"*50)\n",
    "print(\"Evaluating ResNet50 on Test Set\")\n",
    "print(\"=\"*50)\n",
    "\n",
    "test_loss, test_acc, test_predictions, test_true_labels = validate_resnet(\n",
    "    resnet_model, test_loader, criterion, device\n",
    ")\n",
    "\n",
    "print(f\"\\nTest Loss: {test_loss:.4f}\")\n",
    "print(f\"Test Accuracy: {test_acc:.4f}\")\n",
    "\n",
    "\n",
    "print(\"\\n\" + \"=\"*50)\n",
    "print(\"ResNet50 Classification Report\")\n",
    "print(\"=\"*50)\n",
    "print(classification_report(\n",
    "    test_true_labels, \n",
    "    test_predictions, \n",
    "    target_names=EMOTIONS,\n",
    "    digits=4\n",
    "))\n",
    "\n",
    "\n",
    "cm = confusion_matrix(test_true_labels, test_predictions)\n",
    "\n",
    "\n",
    "plt.figure(figsize=(10, 8))\n",
    "sns.heatmap(\n",
    "    cm, \n",
    "    annot=True, \n",
    "    fmt='d', \n",
    "    cmap='Blues',\n",
    "    xticklabels=EMOTIONS,\n",
    "    yticklabels=EMOTIONS,\n",
    "    cbar_kws={'label': 'Count'}\n",
    ")\n",
    "plt.title(f'ResNet50 Confusion Matrix - Test Accuracy: {test_acc:.4f}', fontsize=14, pad=20)\n",
    "plt.ylabel('True Label', fontsize=12)\n",
    "plt.xlabel('Predicted Label', fontsize=12)\n",
    "plt.tight_layout()\n",
    "plt.savefig('resnet50_confusion_matrix.png', dpi=300, bbox_inches='tight')\n",
    "plt.show()\n",
    "\n",
    "print(\"\\nConfusion matrix saved as 'resnet50_confusion_matrix.png'\")\n",
    "\n",
    "\n",
    "fig, (ax1, ax2) = plt.subplots(1, 2, figsize=(15, 5))\n",
    "\n",
    "\n",
    "ax1.plot(history['train_loss'], label='Train Loss', marker='o', linewidth=2)\n",
    "ax1.plot(history['val_loss'], label='Validation Loss', marker='s', linewidth=2)\n",
    "ax1.axvline(x=best_epoch-1, color='r', linestyle='--', linewidth=2, label=f'Best Epoch ({best_epoch})')\n",
    "ax1.set_xlabel('Epoch', fontsize=12)\n",
    "ax1.set_ylabel('Loss', fontsize=12)\n",
    "ax1.set_title('ResNet50 Training and Validation Loss', fontsize=14, fontweight='bold')\n",
    "ax1.legend()\n",
    "ax1.grid(True, alpha=0.3)\n",
    "\n",
    "ax2.plot(history['train_acc'], label='Train Accuracy', marker='o', linewidth=2)\n",
    "ax2.plot(history['val_acc'], label='Validation Accuracy', marker='s', linewidth=2)\n",
    "ax2.axvline(x=best_epoch-1, color='r', linestyle='--', linewidth=2, label=f'Best Epoch ({best_epoch})')\n",
    "ax2.set_xlabel('Epoch', fontsize=12)\n",
    "ax2.set_ylabel('Accuracy', fontsize=12)\n",
    "ax2.set_title('ResNet50 Training and Validation Accuracy', fontsize=14, fontweight='bold')\n",
    "ax2.legend()\n",
    "ax2.grid(True, alpha=0.3)\n",
    "\n",
    "plt.tight_layout()\n",
    "plt.savefig('resnet50_training_history.png', dpi=300, bbox_inches='tight')\n",
    "plt.show()\n",
    "\n",
    "print(\"Training history saved as 'resnet50_training_history.png'\")"
   ]
  },
  {
   "cell_type": "code",
   "execution_count": null,
   "metadata": {
    "execution": {
     "iopub.execute_input": "2025-10-11T08:59:41.876564Z",
     "iopub.status.busy": "2025-10-11T08:59:41.876222Z",
     "iopub.status.idle": "2025-10-11T08:59:41.911891Z",
     "shell.execute_reply": "2025-10-11T08:59:41.911229Z",
     "shell.execute_reply.started": "2025-10-11T08:59:41.876538Z"
    },
    "trusted": true
   },
   "outputs": [
    {
     "name": "stdout",
     "output_type": "stream",
     "text": [
      "\n",
      "==================================================\n",
      "ResNet50 Per-Class Metrics\n",
      "==================================================\n",
      " Emotion  Precision  Recall  F1-Score  Support\n",
      "   angry     0.7791  0.8523    0.8141      149\n",
      " disgust     0.6597  0.6376    0.6485      149\n",
      "    fear     0.6405  0.6577    0.6490      149\n",
      "   happy     0.8613  0.7919    0.8252      149\n",
      " neutral     0.7329  0.7181    0.7254      149\n",
      "     sad     0.7532  0.7785    0.7657      149\n",
      "surprise     0.6301  0.6174    0.6237      149\n",
      "\n",
      "Per-class results saved to 'resnet50_per_class_results.csv'\n",
      "\n",
      "Training summary saved to 'resnet50_training_summary.pkl'\n",
      "\n",
      "==================================================\n",
      "RESNET50 FINAL SUMMARY\n",
      "==================================================\n",
      "Model: ResNet50 (Pre-trained on ImageNet)\n",
      "Backbone Status: FINE-TUNED\n",
      "Total Parameters: 24,691,783\n",
      "Trainable Parameters: 24,691,783\n",
      "Total Epochs Trained: 17\n",
      "Best Epoch: 10\n",
      "Best Validation Accuracy: 0.6951\n",
      "Test Accuracy: 0.7220\n",
      "Test Loss: 1.4582\n",
      "\n",
      "Dataset Split:\n",
      "  Training: 3129 samples (60.0%)\n",
      "  Validation: 1043 samples (20.0%)\n",
      "  Test: 1043 samples (20.0%)\n",
      "\n",
      "Input Configuration:\n",
      "  Sample Rate: 16000 Hz\n",
      "  Duration: 3 seconds\n",
      "  Mel Bands: 128\n",
      "  FFT Size: 2048\n",
      "  Hop Length: 512\n",
      "  Input Shape: (3, 128, time_steps)\n",
      "\n",
      "Files saved:\n",
      "  - best_resnet50_emotion_model.pth (best model checkpoint)\n",
      "  - resnet50_confusion_matrix.png\n",
      "  - resnet50_training_history.png\n",
      "  - resnet50_per_class_results.csv\n",
      "  - resnet50_training_summary.pkl\n",
      "==================================================\n",
      "\n",
      "Test predictions saved to 'resnet50_test_predictions.csv'\n",
      "\n",
      "Confusion Matrix (Percentages):\n",
      "          angry  disgust   fear  happy  neutral    sad  surprise\n",
      "angry     85.23     4.70   4.70   0.67     2.68   0.00      2.01\n",
      "disgust    4.70    63.76   8.05   2.68     6.04   2.68     12.08\n",
      "fear       4.70     3.36  65.77   2.68     2.68   6.04     14.77\n",
      "happy      4.03     4.70   1.34  79.19     4.70   4.03      2.01\n",
      "neutral    6.04     2.01   4.70   4.70    71.81   7.38      3.36\n",
      "sad        2.01     1.34  12.08   1.34     3.36  77.85      2.01\n",
      "surprise   2.68    16.78   6.04   0.67     6.71   5.37     61.74\n",
      "ResNet50 Test Accuracy: 0.7220\n",
      "==================================================\n"
     ]
    }
   ],
   "source": [
    "\n",
    "from sklearn.metrics import precision_recall_fscore_support\n",
    "\n",
    "precision, recall, f1, support = precision_recall_fscore_support(\n",
    "    test_true_labels, test_predictions\n",
    ")\n",
    "\n",
    "\n",
    "results_df = pd.DataFrame({\n",
    "    'Emotion': EMOTIONS,\n",
    "    'Precision': precision,\n",
    "    'Recall': recall,\n",
    "    'F1-Score': f1,\n",
    "    'Support': support\n",
    "})\n",
    "\n",
    "results_df = results_df.round(4)\n",
    "print(\"\\n\" + \"=\"*50)\n",
    "print(\"ResNet50 Per-Class Metrics\")\n",
    "print(\"=\"*50)\n",
    "print(results_df.to_string(index=False))\n",
    "\n",
    "\n",
    "results_df.to_csv('resnet50_per_class_results.csv', index=False)\n",
    "print(\"\\nPer-class results saved to 'resnet50_per_class_results.csv'\")\n",
    "\n",
    "summary = {\n",
    "    'model_type': 'ResNet50',\n",
    "    'pretrained': True,\n",
    "    'freeze_backbone': FREEZE_BACKBONE,\n",
    "    'num_emotions': len(EMOTIONS),\n",
    "    'emotions': EMOTIONS,\n",
    "    'total_epochs': len(history['train_loss']),\n",
    "    'best_epoch': best_epoch,\n",
    "    'train_samples': len(y_train),\n",
    "    'val_samples': len(y_val),\n",
    "    'test_samples': len(y_test),\n",
    "    'best_val_accuracy': best_val_accuracy,\n",
    "    'test_accuracy': test_acc,\n",
    "    'test_loss': test_loss,\n",
    "    'batch_size': BATCH_SIZE,\n",
    "    'learning_rate': LEARNING_RATE,\n",
    "    'hyperparameters': {\n",
    "        'batch_size': BATCH_SIZE,\n",
    "        'learning_rate': LEARNING_RATE,\n",
    "        'num_epochs': NUM_EPOCHS,\n",
    "        'patience': PATIENCE,\n",
    "        'sample_rate': SAMPLE_RATE,\n",
    "        'duration': DURATION,\n",
    "        'n_mels': N_MELS,\n",
    "        'n_fft': N_FFT,\n",
    "        'hop_length': HOP_LENGTH,\n",
    "        'freeze_backbone': FREEZE_BACKBONE\n",
    "    },\n",
    "    'model_parameters': {\n",
    "        'total': sum(p.numel() for p in resnet_model.parameters()),\n",
    "        'trainable': sum(p.numel() for p in resnet_model.parameters() if p.requires_grad)\n",
    "    }\n",
    "}\n",
    "\n",
    "\n",
    "with open('resnet50_training_summary.pkl', 'wb') as f:\n",
    "    pickle.dump(summary, f)\n",
    "\n",
    "print(\"\\nTraining summary saved to 'resnet50_training_summary.pkl'\")\n",
    "\n",
    "print(\"\\n\" + \"=\"*50)\n",
    "print(\"RESNET50 FINAL SUMMARY\")\n",
    "print(\"=\"*50)\n",
    "print(f\"Model: ResNet50 (Pre-trained on ImageNet)\")\n",
    "print(f\"Backbone Status: {'FROZEN' if FREEZE_BACKBONE else 'FINE-TUNED'}\")\n",
    "print(f\"Total Parameters: {summary['model_parameters']['total']:,}\")\n",
    "print(f\"Trainable Parameters: {summary['model_parameters']['trainable']:,}\")\n",
    "print(f\"Total Epochs Trained: {len(history['train_loss'])}\")\n",
    "print(f\"Best Epoch: {best_epoch}\")\n",
    "print(f\"Best Validation Accuracy: {best_val_accuracy:.4f}\")\n",
    "print(f\"Test Accuracy: {test_acc:.4f}\")\n",
    "print(f\"Test Loss: {test_loss:.4f}\")\n",
    "print(\"\\nDataset Split:\")\n",
    "print(f\"  Training: {len(y_train)} samples ({len(y_train)/len(labels)*100:.1f}%)\")\n",
    "print(f\"  Validation: {len(y_val)} samples ({len(y_val)/len(labels)*100:.1f}%)\")\n",
    "print(f\"  Test: {len(y_test)} samples ({len(y_test)/len(labels)*100:.1f}%)\")\n",
    "print(\"\\nInput Configuration:\")\n",
    "print(f\"  Sample Rate: {SAMPLE_RATE} Hz\")\n",
    "print(f\"  Duration: {DURATION} seconds\")\n",
    "print(f\"  Mel Bands: {N_MELS}\")\n",
    "print(f\"  FFT Size: {N_FFT}\")\n",
    "print(f\"  Hop Length: {HOP_LENGTH}\")\n",
    "print(f\"  Input Shape: (3, {N_MELS}, time_steps)\")\n",
    "print(\"\\nFiles saved:\")\n",
    "print(\"  - best_resnet50_emotion_model.pth (best model checkpoint)\")\n",
    "print(\"  - resnet50_confusion_matrix.png\")\n",
    "print(\"  - resnet50_training_history.png\")\n",
    "print(\"  - resnet50_per_class_results.csv\")\n",
    "print(\"  - resnet50_training_summary.pkl\")\n",
    "print(\"=\"*50)\n",
    "\n",
    "\n",
    "predictions_df = pd.DataFrame({\n",
    "    'True_Label': [EMOTIONS[i] for i in test_true_labels],\n",
    "    'Predicted_Label': [EMOTIONS[i] for i in test_predictions],\n",
    "    'True_Label_Index': test_true_labels,\n",
    "    'Predicted_Label_Index': test_predictions,\n",
    "    'Correct': [t == p for t, p in zip(test_true_labels, test_predictions)]\n",
    "})\n",
    "\n",
    "predictions_df.to_csv('resnet50_test_predictions.csv', index=False)\n",
    "print(\"\\nTest predictions saved to 'resnet50_test_predictions.csv'\")\n",
    "\n",
    "cm_percent = cm.astype('float') / cm.sum(axis=1)[:, np.newaxis] * 100\n",
    "print(\"\\nConfusion Matrix (Percentages):\")\n",
    "print(pd.DataFrame(cm_percent, index=EMOTIONS, columns=EMOTIONS).round(2))\n",
    "\n",
    "\n",
    "print(f\"ResNet50 Test Accuracy: {test_acc:.4f}\")\n",
    "\n",
    "print(\"=\"*50)"
   ]
  }
 ],
 "metadata": {
  "kaggle": {
   "accelerator": "nvidiaTeslaT4",
   "dataSources": [
    {
     "datasetId": 8395144,
     "sourceId": 13249035,
     "sourceType": "datasetVersion"
    }
   ],
   "dockerImageVersionId": 31090,
   "isGpuEnabled": true,
   "isInternetEnabled": true,
   "language": "python",
   "sourceType": "notebook"
  },
  "kernelspec": {
   "display_name": "Python 3",
   "language": "python",
   "name": "python3"
  },
  "language_info": {
   "codemirror_mode": {
    "name": "ipython",
    "version": 3
   },
   "file_extension": ".py",
   "mimetype": "text/x-python",
   "name": "python",
   "nbconvert_exporter": "python",
   "pygments_lexer": "ipython3",
   "version": "3.11.13"
  }
 },
 "nbformat": 4,
 "nbformat_minor": 4
}
